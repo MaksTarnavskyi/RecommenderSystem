{
 "cells": [
  {
   "cell_type": "code",
   "execution_count": 7,
   "metadata": {},
   "outputs": [
    {
     "name": "stdout",
     "output_type": "stream",
     "text": [
      "The autoreload extension is already loaded. To reload it, use:\n",
      "  %reload_ext autoreload\n"
     ]
    }
   ],
   "source": [
    "import pandas as pd\n",
    "import numpy as np\n",
    "import os\n",
    "import copy\n",
    "import json\n",
    "from tqdm.auto import tqdm\n",
    "\n",
    "%load_ext autoreload\n",
    "%autoreload 2"
   ]
  },
  {
   "cell_type": "code",
   "execution_count": 11,
   "metadata": {},
   "outputs": [],
   "source": [
    "data_folder = '../data_Megogo/'\n",
    "new_data_folder = '../generated_data/'\n",
    "model_folder = new_data_folder +'models/factor_100/'\n",
    "dic_folder = new_data_folder+'dic/'"
   ]
  },
  {
   "cell_type": "code",
   "execution_count": 9,
   "metadata": {},
   "outputs": [],
   "source": [
    "import export_modules\n",
    "from app.Recommender_implicit_new import Implicit\n",
    "from app.metrics_new import Metrics"
   ]
  },
  {
   "cell_type": "markdown",
   "metadata": {},
   "source": [
    "# Test"
   ]
  },
  {
   "cell_type": "code",
   "execution_count": 17,
   "metadata": {},
   "outputs": [],
   "source": [
    "with open(dic_folder+'test_dic.json', 'r') as f:\n",
    "    test_dic = json.load(f) "
   ]
  },
  {
   "cell_type": "markdown",
   "metadata": {},
   "source": [
    "# From 1 level"
   ]
  },
  {
   "cell_type": "markdown",
   "metadata": {},
   "source": [
    "### Features"
   ]
  },
  {
   "cell_type": "code",
   "execution_count": 12,
   "metadata": {},
   "outputs": [
    {
     "data": {
      "text/html": [
       "<div>\n",
       "<style scoped>\n",
       "    .dataframe tbody tr th:only-of-type {\n",
       "        vertical-align: middle;\n",
       "    }\n",
       "\n",
       "    .dataframe tbody tr th {\n",
       "        vertical-align: top;\n",
       "    }\n",
       "\n",
       "    .dataframe thead th {\n",
       "        text-align: right;\n",
       "    }\n",
       "</style>\n",
       "<table border=\"1\" class=\"dataframe\">\n",
       "  <thead>\n",
       "    <tr style=\"text-align: right;\">\n",
       "      <th></th>\n",
       "      <th>uf0</th>\n",
       "      <th>uf1</th>\n",
       "      <th>uf2</th>\n",
       "      <th>uf3</th>\n",
       "      <th>uf4</th>\n",
       "      <th>uf5</th>\n",
       "      <th>uf6</th>\n",
       "      <th>uf7</th>\n",
       "      <th>uf8</th>\n",
       "      <th>uf9</th>\n",
       "      <th>...</th>\n",
       "      <th>uf91</th>\n",
       "      <th>uf92</th>\n",
       "      <th>uf93</th>\n",
       "      <th>uf94</th>\n",
       "      <th>uf95</th>\n",
       "      <th>uf96</th>\n",
       "      <th>uf97</th>\n",
       "      <th>uf98</th>\n",
       "      <th>uf99</th>\n",
       "      <th>user_id</th>\n",
       "    </tr>\n",
       "  </thead>\n",
       "  <tbody>\n",
       "    <tr>\n",
       "      <th>0</th>\n",
       "      <td>-0.071293</td>\n",
       "      <td>0.559415</td>\n",
       "      <td>-0.072539</td>\n",
       "      <td>0.129628</td>\n",
       "      <td>-0.280565</td>\n",
       "      <td>0.059878</td>\n",
       "      <td>-0.283093</td>\n",
       "      <td>-0.060836</td>\n",
       "      <td>0.450761</td>\n",
       "      <td>-0.330126</td>\n",
       "      <td>...</td>\n",
       "      <td>0.242459</td>\n",
       "      <td>-0.129850</td>\n",
       "      <td>-0.201479</td>\n",
       "      <td>0.126578</td>\n",
       "      <td>-0.234366</td>\n",
       "      <td>0.084919</td>\n",
       "      <td>-0.537230</td>\n",
       "      <td>0.062307</td>\n",
       "      <td>0.434250</td>\n",
       "      <td>21603820</td>\n",
       "    </tr>\n",
       "    <tr>\n",
       "      <th>1</th>\n",
       "      <td>0.078816</td>\n",
       "      <td>-0.080879</td>\n",
       "      <td>0.154771</td>\n",
       "      <td>-0.018486</td>\n",
       "      <td>1.056839</td>\n",
       "      <td>0.269800</td>\n",
       "      <td>0.520433</td>\n",
       "      <td>0.593316</td>\n",
       "      <td>0.011278</td>\n",
       "      <td>-0.335845</td>\n",
       "      <td>...</td>\n",
       "      <td>0.323231</td>\n",
       "      <td>0.206529</td>\n",
       "      <td>0.454821</td>\n",
       "      <td>0.121880</td>\n",
       "      <td>-0.179581</td>\n",
       "      <td>-0.278110</td>\n",
       "      <td>-0.029591</td>\n",
       "      <td>0.093737</td>\n",
       "      <td>0.507237</td>\n",
       "      <td>35636970</td>\n",
       "    </tr>\n",
       "  </tbody>\n",
       "</table>\n",
       "<p>2 rows × 101 columns</p>\n",
       "</div>"
      ],
      "text/plain": [
       "        uf0       uf1       uf2       uf3       uf4       uf5       uf6  \\\n",
       "0 -0.071293  0.559415 -0.072539  0.129628 -0.280565  0.059878 -0.283093   \n",
       "1  0.078816 -0.080879  0.154771 -0.018486  1.056839  0.269800  0.520433   \n",
       "\n",
       "        uf7       uf8       uf9  ...      uf91      uf92      uf93      uf94  \\\n",
       "0 -0.060836  0.450761 -0.330126  ...  0.242459 -0.129850 -0.201479  0.126578   \n",
       "1  0.593316  0.011278 -0.335845  ...  0.323231  0.206529  0.454821  0.121880   \n",
       "\n",
       "       uf95      uf96      uf97      uf98      uf99   user_id  \n",
       "0 -0.234366  0.084919 -0.537230  0.062307  0.434250  21603820  \n",
       "1 -0.179581 -0.278110 -0.029591  0.093737  0.507237  35636970  \n",
       "\n",
       "[2 rows x 101 columns]"
      ]
     },
     "execution_count": 12,
     "metadata": {},
     "output_type": "execute_result"
    }
   ],
   "source": [
    "user_features_df = pd.read_csv(model_folder+'user_features.csv')\n",
    "user_features_df['user_id'] = user_features_df['user_id'].apply(str)\n",
    "user_features_df.head(2)"
   ]
  },
  {
   "cell_type": "code",
   "execution_count": 16,
   "metadata": {},
   "outputs": [],
   "source": [
    "new_col = ['user_id']\n",
    "\n",
    "new_col.extend(list(user_features_df.columns[:-1]))"
   ]
  },
  {
   "cell_type": "code",
   "execution_count": 17,
   "metadata": {},
   "outputs": [
    {
     "data": {
      "text/html": [
       "<div>\n",
       "<style scoped>\n",
       "    .dataframe tbody tr th:only-of-type {\n",
       "        vertical-align: middle;\n",
       "    }\n",
       "\n",
       "    .dataframe tbody tr th {\n",
       "        vertical-align: top;\n",
       "    }\n",
       "\n",
       "    .dataframe thead th {\n",
       "        text-align: right;\n",
       "    }\n",
       "</style>\n",
       "<table border=\"1\" class=\"dataframe\">\n",
       "  <thead>\n",
       "    <tr style=\"text-align: right;\">\n",
       "      <th></th>\n",
       "      <th>user_id</th>\n",
       "      <th>uf0</th>\n",
       "      <th>uf1</th>\n",
       "      <th>uf2</th>\n",
       "      <th>uf3</th>\n",
       "      <th>uf4</th>\n",
       "      <th>uf5</th>\n",
       "      <th>uf6</th>\n",
       "      <th>uf7</th>\n",
       "      <th>uf8</th>\n",
       "      <th>...</th>\n",
       "      <th>uf90</th>\n",
       "      <th>uf91</th>\n",
       "      <th>uf92</th>\n",
       "      <th>uf93</th>\n",
       "      <th>uf94</th>\n",
       "      <th>uf95</th>\n",
       "      <th>uf96</th>\n",
       "      <th>uf97</th>\n",
       "      <th>uf98</th>\n",
       "      <th>uf99</th>\n",
       "    </tr>\n",
       "  </thead>\n",
       "  <tbody>\n",
       "    <tr>\n",
       "      <th>0</th>\n",
       "      <td>21603820</td>\n",
       "      <td>-0.071293</td>\n",
       "      <td>0.559415</td>\n",
       "      <td>-0.072539</td>\n",
       "      <td>0.129628</td>\n",
       "      <td>-0.280565</td>\n",
       "      <td>0.059878</td>\n",
       "      <td>-0.283093</td>\n",
       "      <td>-0.060836</td>\n",
       "      <td>0.450761</td>\n",
       "      <td>...</td>\n",
       "      <td>0.073832</td>\n",
       "      <td>0.242459</td>\n",
       "      <td>-0.129850</td>\n",
       "      <td>-0.201479</td>\n",
       "      <td>0.126578</td>\n",
       "      <td>-0.234366</td>\n",
       "      <td>0.084919</td>\n",
       "      <td>-0.537230</td>\n",
       "      <td>0.062307</td>\n",
       "      <td>0.434250</td>\n",
       "    </tr>\n",
       "    <tr>\n",
       "      <th>1</th>\n",
       "      <td>35636970</td>\n",
       "      <td>0.078816</td>\n",
       "      <td>-0.080879</td>\n",
       "      <td>0.154771</td>\n",
       "      <td>-0.018486</td>\n",
       "      <td>1.056839</td>\n",
       "      <td>0.269800</td>\n",
       "      <td>0.520433</td>\n",
       "      <td>0.593316</td>\n",
       "      <td>0.011278</td>\n",
       "      <td>...</td>\n",
       "      <td>-0.358628</td>\n",
       "      <td>0.323231</td>\n",
       "      <td>0.206529</td>\n",
       "      <td>0.454821</td>\n",
       "      <td>0.121880</td>\n",
       "      <td>-0.179581</td>\n",
       "      <td>-0.278110</td>\n",
       "      <td>-0.029591</td>\n",
       "      <td>0.093737</td>\n",
       "      <td>0.507237</td>\n",
       "    </tr>\n",
       "    <tr>\n",
       "      <th>2</th>\n",
       "      <td>78312976</td>\n",
       "      <td>-0.249220</td>\n",
       "      <td>-0.237675</td>\n",
       "      <td>0.078369</td>\n",
       "      <td>0.563539</td>\n",
       "      <td>-0.011536</td>\n",
       "      <td>0.416894</td>\n",
       "      <td>-0.021369</td>\n",
       "      <td>-0.241337</td>\n",
       "      <td>0.021629</td>\n",
       "      <td>...</td>\n",
       "      <td>0.130717</td>\n",
       "      <td>0.071178</td>\n",
       "      <td>0.311148</td>\n",
       "      <td>0.015022</td>\n",
       "      <td>0.053758</td>\n",
       "      <td>0.058183</td>\n",
       "      <td>0.319254</td>\n",
       "      <td>-0.365170</td>\n",
       "      <td>0.342792</td>\n",
       "      <td>0.276782</td>\n",
       "    </tr>\n",
       "  </tbody>\n",
       "</table>\n",
       "<p>3 rows × 101 columns</p>\n",
       "</div>"
      ],
      "text/plain": [
       "    user_id       uf0       uf1       uf2       uf3       uf4       uf5  \\\n",
       "0  21603820 -0.071293  0.559415 -0.072539  0.129628 -0.280565  0.059878   \n",
       "1  35636970  0.078816 -0.080879  0.154771 -0.018486  1.056839  0.269800   \n",
       "2  78312976 -0.249220 -0.237675  0.078369  0.563539 -0.011536  0.416894   \n",
       "\n",
       "        uf6       uf7       uf8  ...      uf90      uf91      uf92      uf93  \\\n",
       "0 -0.283093 -0.060836  0.450761  ...  0.073832  0.242459 -0.129850 -0.201479   \n",
       "1  0.520433  0.593316  0.011278  ... -0.358628  0.323231  0.206529  0.454821   \n",
       "2 -0.021369 -0.241337  0.021629  ...  0.130717  0.071178  0.311148  0.015022   \n",
       "\n",
       "       uf94      uf95      uf96      uf97      uf98      uf99  \n",
       "0  0.126578 -0.234366  0.084919 -0.537230  0.062307  0.434250  \n",
       "1  0.121880 -0.179581 -0.278110 -0.029591  0.093737  0.507237  \n",
       "2  0.053758  0.058183  0.319254 -0.365170  0.342792  0.276782  \n",
       "\n",
       "[3 rows x 101 columns]"
      ]
     },
     "execution_count": 17,
     "metadata": {},
     "output_type": "execute_result"
    }
   ],
   "source": [
    "user_features_df.loc[:2, new_col]"
   ]
  },
  {
   "cell_type": "code",
   "execution_count": 18,
   "metadata": {},
   "outputs": [
    {
     "data": {
      "text/html": [
       "<div>\n",
       "<style scoped>\n",
       "    .dataframe tbody tr th:only-of-type {\n",
       "        vertical-align: middle;\n",
       "    }\n",
       "\n",
       "    .dataframe tbody tr th {\n",
       "        vertical-align: top;\n",
       "    }\n",
       "\n",
       "    .dataframe thead th {\n",
       "        text-align: right;\n",
       "    }\n",
       "</style>\n",
       "<table border=\"1\" class=\"dataframe\">\n",
       "  <thead>\n",
       "    <tr style=\"text-align: right;\">\n",
       "      <th></th>\n",
       "      <th>if0</th>\n",
       "      <th>if1</th>\n",
       "      <th>if2</th>\n",
       "      <th>if3</th>\n",
       "      <th>if4</th>\n",
       "      <th>if5</th>\n",
       "      <th>if6</th>\n",
       "      <th>if7</th>\n",
       "      <th>if8</th>\n",
       "      <th>if9</th>\n",
       "      <th>...</th>\n",
       "      <th>if91</th>\n",
       "      <th>if92</th>\n",
       "      <th>if93</th>\n",
       "      <th>if94</th>\n",
       "      <th>if95</th>\n",
       "      <th>if96</th>\n",
       "      <th>if97</th>\n",
       "      <th>if98</th>\n",
       "      <th>if99</th>\n",
       "      <th>primary_video_id</th>\n",
       "    </tr>\n",
       "  </thead>\n",
       "  <tbody>\n",
       "    <tr>\n",
       "      <th>0</th>\n",
       "      <td>-0.099971</td>\n",
       "      <td>-0.049025</td>\n",
       "      <td>0.043438</td>\n",
       "      <td>-0.019529</td>\n",
       "      <td>-0.075116</td>\n",
       "      <td>0.004447</td>\n",
       "      <td>-0.097199</td>\n",
       "      <td>0.012962</td>\n",
       "      <td>0.171468</td>\n",
       "      <td>-0.092855</td>\n",
       "      <td>...</td>\n",
       "      <td>-0.044163</td>\n",
       "      <td>0.090578</td>\n",
       "      <td>0.019817</td>\n",
       "      <td>-0.064349</td>\n",
       "      <td>0.073162</td>\n",
       "      <td>0.017504</td>\n",
       "      <td>-0.046425</td>\n",
       "      <td>-0.139511</td>\n",
       "      <td>-0.082321</td>\n",
       "      <td>9583642</td>\n",
       "    </tr>\n",
       "    <tr>\n",
       "      <th>1</th>\n",
       "      <td>0.019838</td>\n",
       "      <td>0.006003</td>\n",
       "      <td>-0.007013</td>\n",
       "      <td>-0.035202</td>\n",
       "      <td>0.112414</td>\n",
       "      <td>-0.047919</td>\n",
       "      <td>0.020665</td>\n",
       "      <td>0.049804</td>\n",
       "      <td>-0.024089</td>\n",
       "      <td>-0.021320</td>\n",
       "      <td>...</td>\n",
       "      <td>0.007876</td>\n",
       "      <td>0.018302</td>\n",
       "      <td>0.138939</td>\n",
       "      <td>-0.020511</td>\n",
       "      <td>0.099355</td>\n",
       "      <td>-0.107464</td>\n",
       "      <td>-0.008768</td>\n",
       "      <td>-0.038376</td>\n",
       "      <td>-0.028883</td>\n",
       "      <td>24645936</td>\n",
       "    </tr>\n",
       "  </tbody>\n",
       "</table>\n",
       "<p>2 rows × 101 columns</p>\n",
       "</div>"
      ],
      "text/plain": [
       "        if0       if1       if2       if3       if4       if5       if6  \\\n",
       "0 -0.099971 -0.049025  0.043438 -0.019529 -0.075116  0.004447 -0.097199   \n",
       "1  0.019838  0.006003 -0.007013 -0.035202  0.112414 -0.047919  0.020665   \n",
       "\n",
       "        if7       if8       if9  ...      if91      if92      if93      if94  \\\n",
       "0  0.012962  0.171468 -0.092855  ... -0.044163  0.090578  0.019817 -0.064349   \n",
       "1  0.049804 -0.024089 -0.021320  ...  0.007876  0.018302  0.138939 -0.020511   \n",
       "\n",
       "       if95      if96      if97      if98      if99  primary_video_id  \n",
       "0  0.073162  0.017504 -0.046425 -0.139511 -0.082321           9583642  \n",
       "1  0.099355 -0.107464 -0.008768 -0.038376 -0.028883          24645936  \n",
       "\n",
       "[2 rows x 101 columns]"
      ]
     },
     "execution_count": 18,
     "metadata": {},
     "output_type": "execute_result"
    }
   ],
   "source": [
    "item_features_df = pd.read_csv(model_folder+'item_features.csv')\n",
    "item_features_df['primary_video_id'] = item_features_df['primary_video_id'].apply(str)\n",
    "item_features_df.head(2)"
   ]
  },
  {
   "cell_type": "code",
   "execution_count": 19,
   "metadata": {},
   "outputs": [],
   "source": [
    "new_col = ['primary_video_id']\n",
    "\n",
    "new_col.extend(list(item_features_df.columns[:-1]))"
   ]
  },
  {
   "cell_type": "code",
   "execution_count": 20,
   "metadata": {},
   "outputs": [
    {
     "data": {
      "text/html": [
       "<div>\n",
       "<style scoped>\n",
       "    .dataframe tbody tr th:only-of-type {\n",
       "        vertical-align: middle;\n",
       "    }\n",
       "\n",
       "    .dataframe tbody tr th {\n",
       "        vertical-align: top;\n",
       "    }\n",
       "\n",
       "    .dataframe thead th {\n",
       "        text-align: right;\n",
       "    }\n",
       "</style>\n",
       "<table border=\"1\" class=\"dataframe\">\n",
       "  <thead>\n",
       "    <tr style=\"text-align: right;\">\n",
       "      <th></th>\n",
       "      <th>primary_video_id</th>\n",
       "      <th>if0</th>\n",
       "      <th>if1</th>\n",
       "      <th>if2</th>\n",
       "      <th>if3</th>\n",
       "      <th>if4</th>\n",
       "      <th>if5</th>\n",
       "      <th>if6</th>\n",
       "      <th>if7</th>\n",
       "      <th>if8</th>\n",
       "      <th>...</th>\n",
       "      <th>if90</th>\n",
       "      <th>if91</th>\n",
       "      <th>if92</th>\n",
       "      <th>if93</th>\n",
       "      <th>if94</th>\n",
       "      <th>if95</th>\n",
       "      <th>if96</th>\n",
       "      <th>if97</th>\n",
       "      <th>if98</th>\n",
       "      <th>if99</th>\n",
       "    </tr>\n",
       "  </thead>\n",
       "  <tbody>\n",
       "    <tr>\n",
       "      <th>0</th>\n",
       "      <td>9583642</td>\n",
       "      <td>-0.099971</td>\n",
       "      <td>-0.049025</td>\n",
       "      <td>0.043438</td>\n",
       "      <td>-0.019529</td>\n",
       "      <td>-0.075116</td>\n",
       "      <td>0.004447</td>\n",
       "      <td>-0.097199</td>\n",
       "      <td>0.012962</td>\n",
       "      <td>0.171468</td>\n",
       "      <td>...</td>\n",
       "      <td>0.197261</td>\n",
       "      <td>-0.044163</td>\n",
       "      <td>0.090578</td>\n",
       "      <td>0.019817</td>\n",
       "      <td>-0.064349</td>\n",
       "      <td>0.073162</td>\n",
       "      <td>0.017504</td>\n",
       "      <td>-0.046425</td>\n",
       "      <td>-0.139511</td>\n",
       "      <td>-0.082321</td>\n",
       "    </tr>\n",
       "    <tr>\n",
       "      <th>1</th>\n",
       "      <td>24645936</td>\n",
       "      <td>0.019838</td>\n",
       "      <td>0.006003</td>\n",
       "      <td>-0.007013</td>\n",
       "      <td>-0.035202</td>\n",
       "      <td>0.112414</td>\n",
       "      <td>-0.047919</td>\n",
       "      <td>0.020665</td>\n",
       "      <td>0.049804</td>\n",
       "      <td>-0.024089</td>\n",
       "      <td>...</td>\n",
       "      <td>-0.022884</td>\n",
       "      <td>0.007876</td>\n",
       "      <td>0.018302</td>\n",
       "      <td>0.138939</td>\n",
       "      <td>-0.020511</td>\n",
       "      <td>0.099355</td>\n",
       "      <td>-0.107464</td>\n",
       "      <td>-0.008768</td>\n",
       "      <td>-0.038376</td>\n",
       "      <td>-0.028883</td>\n",
       "    </tr>\n",
       "    <tr>\n",
       "      <th>2</th>\n",
       "      <td>25397362</td>\n",
       "      <td>-0.097113</td>\n",
       "      <td>-0.008341</td>\n",
       "      <td>0.059431</td>\n",
       "      <td>0.133416</td>\n",
       "      <td>-0.030762</td>\n",
       "      <td>0.040883</td>\n",
       "      <td>0.019127</td>\n",
       "      <td>-0.072346</td>\n",
       "      <td>-0.015360</td>\n",
       "      <td>...</td>\n",
       "      <td>0.084288</td>\n",
       "      <td>-0.025701</td>\n",
       "      <td>-0.030473</td>\n",
       "      <td>0.066161</td>\n",
       "      <td>0.038716</td>\n",
       "      <td>-0.057714</td>\n",
       "      <td>0.005149</td>\n",
       "      <td>-0.012771</td>\n",
       "      <td>0.060515</td>\n",
       "      <td>-0.000277</td>\n",
       "    </tr>\n",
       "  </tbody>\n",
       "</table>\n",
       "<p>3 rows × 101 columns</p>\n",
       "</div>"
      ],
      "text/plain": [
       "  primary_video_id       if0       if1       if2       if3       if4  \\\n",
       "0          9583642 -0.099971 -0.049025  0.043438 -0.019529 -0.075116   \n",
       "1         24645936  0.019838  0.006003 -0.007013 -0.035202  0.112414   \n",
       "2         25397362 -0.097113 -0.008341  0.059431  0.133416 -0.030762   \n",
       "\n",
       "        if5       if6       if7       if8  ...      if90      if91      if92  \\\n",
       "0  0.004447 -0.097199  0.012962  0.171468  ...  0.197261 -0.044163  0.090578   \n",
       "1 -0.047919  0.020665  0.049804 -0.024089  ... -0.022884  0.007876  0.018302   \n",
       "2  0.040883  0.019127 -0.072346 -0.015360  ...  0.084288 -0.025701 -0.030473   \n",
       "\n",
       "       if93      if94      if95      if96      if97      if98      if99  \n",
       "0  0.019817 -0.064349  0.073162  0.017504 -0.046425 -0.139511 -0.082321  \n",
       "1  0.138939 -0.020511  0.099355 -0.107464 -0.008768 -0.038376 -0.028883  \n",
       "2  0.066161  0.038716 -0.057714  0.005149 -0.012771  0.060515 -0.000277  \n",
       "\n",
       "[3 rows x 101 columns]"
      ]
     },
     "execution_count": 20,
     "metadata": {},
     "output_type": "execute_result"
    }
   ],
   "source": [
    "item_features_df.loc[:2, new_col]"
   ]
  },
  {
   "cell_type": "markdown",
   "metadata": {},
   "source": [
    "### Predict"
   ]
  },
  {
   "cell_type": "code",
   "execution_count": 85,
   "metadata": {},
   "outputs": [
    {
     "data": {
      "text/html": [
       "<div>\n",
       "<style scoped>\n",
       "    .dataframe tbody tr th:only-of-type {\n",
       "        vertical-align: middle;\n",
       "    }\n",
       "\n",
       "    .dataframe tbody tr th {\n",
       "        vertical-align: top;\n",
       "    }\n",
       "\n",
       "    .dataframe thead th {\n",
       "        text-align: right;\n",
       "    }\n",
       "</style>\n",
       "<table border=\"1\" class=\"dataframe\">\n",
       "  <thead>\n",
       "    <tr style=\"text-align: right;\">\n",
       "      <th></th>\n",
       "      <th>user_id</th>\n",
       "      <th>primary_video_id</th>\n",
       "    </tr>\n",
       "  </thead>\n",
       "  <tbody>\n",
       "    <tr>\n",
       "      <th>0</th>\n",
       "      <td>1088</td>\n",
       "      <td>2677761</td>\n",
       "    </tr>\n",
       "    <tr>\n",
       "      <th>1</th>\n",
       "      <td>1088</td>\n",
       "      <td>3696132</td>\n",
       "    </tr>\n",
       "  </tbody>\n",
       "</table>\n",
       "</div>"
      ],
      "text/plain": [
       "  user_id primary_video_id\n",
       "0    1088          2677761\n",
       "1    1088          3696132"
      ]
     },
     "execution_count": 85,
     "metadata": {},
     "output_type": "execute_result"
    }
   ],
   "source": [
    "df_predict_10 = pd.read_csv(model_folder+'predict_10.csv')\n",
    "df_predict_10[['user_id', 'primary_video_id']] = df_predict_10[['user_id', 'primary_video_id']].astype(str)\n",
    "df_predict_10.head(2)"
   ]
  },
  {
   "cell_type": "code",
   "execution_count": 86,
   "metadata": {},
   "outputs": [
    {
     "data": {
      "text/html": [
       "<div>\n",
       "<style scoped>\n",
       "    .dataframe tbody tr th:only-of-type {\n",
       "        vertical-align: middle;\n",
       "    }\n",
       "\n",
       "    .dataframe tbody tr th {\n",
       "        vertical-align: top;\n",
       "    }\n",
       "\n",
       "    .dataframe thead th {\n",
       "        text-align: right;\n",
       "    }\n",
       "</style>\n",
       "<table border=\"1\" class=\"dataframe\">\n",
       "  <thead>\n",
       "    <tr style=\"text-align: right;\">\n",
       "      <th></th>\n",
       "      <th>user_id</th>\n",
       "      <th>primary_video_id</th>\n",
       "    </tr>\n",
       "  </thead>\n",
       "  <tbody>\n",
       "    <tr>\n",
       "      <th>0</th>\n",
       "      <td>1088</td>\n",
       "      <td>2677761</td>\n",
       "    </tr>\n",
       "    <tr>\n",
       "      <th>1</th>\n",
       "      <td>1088</td>\n",
       "      <td>3696132</td>\n",
       "    </tr>\n",
       "  </tbody>\n",
       "</table>\n",
       "</div>"
      ],
      "text/plain": [
       "  user_id primary_video_id\n",
       "0    1088          2677761\n",
       "1    1088          3696132"
      ]
     },
     "execution_count": 86,
     "metadata": {},
     "output_type": "execute_result"
    }
   ],
   "source": [
    "df_predict_20 = pd.read_csv(model_folder+'predict_20.csv')\n",
    "df_predict_20[['user_id', 'primary_video_id']] = df_predict_20[['user_id', 'primary_video_id']].astype(str)\n",
    "df_predict_20.head(2)"
   ]
  },
  {
   "cell_type": "markdown",
   "metadata": {},
   "source": [
    "# Start 2 level"
   ]
  },
  {
   "cell_type": "code",
   "execution_count": 4,
   "metadata": {},
   "outputs": [
    {
     "data": {
      "text/html": [
       "<div>\n",
       "<style scoped>\n",
       "    .dataframe tbody tr th:only-of-type {\n",
       "        vertical-align: middle;\n",
       "    }\n",
       "\n",
       "    .dataframe tbody tr th {\n",
       "        vertical-align: top;\n",
       "    }\n",
       "\n",
       "    .dataframe thead th {\n",
       "        text-align: right;\n",
       "    }\n",
       "</style>\n",
       "<table border=\"1\" class=\"dataframe\">\n",
       "  <thead>\n",
       "    <tr style=\"text-align: right;\">\n",
       "      <th></th>\n",
       "      <th>user_id</th>\n",
       "      <th>primary_video_id</th>\n",
       "      <th>watching_percentage</th>\n",
       "    </tr>\n",
       "  </thead>\n",
       "  <tbody>\n",
       "    <tr>\n",
       "      <th>0</th>\n",
       "      <td>21603820</td>\n",
       "      <td>9583642</td>\n",
       "      <td>0.0839</td>\n",
       "    </tr>\n",
       "    <tr>\n",
       "      <th>1</th>\n",
       "      <td>35636970</td>\n",
       "      <td>24645936</td>\n",
       "      <td>0.5990</td>\n",
       "    </tr>\n",
       "  </tbody>\n",
       "</table>\n",
       "</div>"
      ],
      "text/plain": [
       "    user_id primary_video_id  watching_percentage\n",
       "0  21603820          9583642               0.0839\n",
       "1  35636970         24645936               0.5990"
      ]
     },
     "execution_count": 4,
     "metadata": {},
     "output_type": "execute_result"
    }
   ],
   "source": [
    "train = pd.read_csv(new_data_folder+'train_first_level.csv')\n",
    "train[['user', 'item']] = train[['user', 'item']].astype(str)\n",
    "train.columns = ['user_id', 'primary_video_id', 'watching_percentage']\n",
    "train.head(2)"
   ]
  },
  {
   "cell_type": "code",
   "execution_count": 5,
   "metadata": {},
   "outputs": [
    {
     "data": {
      "text/html": [
       "<div>\n",
       "<style scoped>\n",
       "    .dataframe tbody tr th:only-of-type {\n",
       "        vertical-align: middle;\n",
       "    }\n",
       "\n",
       "    .dataframe tbody tr th {\n",
       "        vertical-align: top;\n",
       "    }\n",
       "\n",
       "    .dataframe thead th {\n",
       "        text-align: right;\n",
       "    }\n",
       "</style>\n",
       "<table border=\"1\" class=\"dataframe\">\n",
       "  <thead>\n",
       "    <tr style=\"text-align: right;\">\n",
       "      <th></th>\n",
       "      <th>user_id</th>\n",
       "      <th>primary_video_id</th>\n",
       "      <th>watching_percentage</th>\n",
       "      <th>is_relevant</th>\n",
       "    </tr>\n",
       "  </thead>\n",
       "  <tbody>\n",
       "    <tr>\n",
       "      <th>0</th>\n",
       "      <td>21603820</td>\n",
       "      <td>9583642</td>\n",
       "      <td>0.0839</td>\n",
       "      <td>0</td>\n",
       "    </tr>\n",
       "    <tr>\n",
       "      <th>1</th>\n",
       "      <td>35636970</td>\n",
       "      <td>24645936</td>\n",
       "      <td>0.5990</td>\n",
       "      <td>1</td>\n",
       "    </tr>\n",
       "  </tbody>\n",
       "</table>\n",
       "</div>"
      ],
      "text/plain": [
       "    user_id primary_video_id  watching_percentage  is_relevant\n",
       "0  21603820          9583642               0.0839            0\n",
       "1  35636970         24645936               0.5990            1"
      ]
     },
     "execution_count": 5,
     "metadata": {},
     "output_type": "execute_result"
    }
   ],
   "source": [
    "train['is_relevant'] = train['watching_percentage'] >= 0.5\n",
    "train['is_relevant'] = train['is_relevant'].apply(int)\n",
    "train.head(2)"
   ]
  },
  {
   "cell_type": "code",
   "execution_count": 6,
   "metadata": {},
   "outputs": [
    {
     "data": {
      "text/plain": [
       "1    5536587\n",
       "0    2427810\n",
       "Name: is_relevant, dtype: int64"
      ]
     },
     "execution_count": 6,
     "metadata": {},
     "output_type": "execute_result"
    }
   ],
   "source": [
    "train.is_relevant.value_counts()"
   ]
  },
  {
   "cell_type": "code",
   "execution_count": 7,
   "metadata": {
    "scrolled": true
   },
   "outputs": [],
   "source": [
    "train_good = train[train.is_relevant == 1]\n",
    "train_bad = train[train.is_relevant == 0]"
   ]
  },
  {
   "cell_type": "code",
   "execution_count": 8,
   "metadata": {},
   "outputs": [],
   "source": [
    "train_good = train_good.sort_values('watching_percentage', ascending=False)\n",
    "train_bad = train_bad.sort_values('watching_percentage', ascending=True)"
   ]
  },
  {
   "cell_type": "code",
   "execution_count": 9,
   "metadata": {},
   "outputs": [],
   "source": [
    "train_good = train_good.drop(['watching_percentage', 'is_relevant'], axis=1)\n",
    "train_bad = train_bad.drop(['watching_percentage', 'is_relevant'], axis=1)"
   ]
  },
  {
   "cell_type": "code",
   "execution_count": 10,
   "metadata": {},
   "outputs": [],
   "source": [
    "train_good = train_good.drop_duplicates()\n",
    "train_bad = train_bad.drop_duplicates()"
   ]
  },
  {
   "cell_type": "code",
   "execution_count": 11,
   "metadata": {},
   "outputs": [
    {
     "name": "stdout",
     "output_type": "stream",
     "text": [
      "3004447\n",
      "1811982\n"
     ]
    }
   ],
   "source": [
    "print(len(train_good))\n",
    "print(len(train_bad))"
   ]
  },
  {
   "cell_type": "code",
   "execution_count": 12,
   "metadata": {},
   "outputs": [],
   "source": [
    "user_items_good = train_good.groupby(['user_id'])['primary_video_id'].apply(lambda grp: list(grp)).to_dict()"
   ]
  },
  {
   "cell_type": "code",
   "execution_count": 13,
   "metadata": {},
   "outputs": [],
   "source": [
    "user_items_bad = train_bad.groupby(['user_id'])['primary_video_id'].apply(lambda grp: list(grp)).to_dict()"
   ]
  },
  {
   "cell_type": "code",
   "execution_count": 33,
   "metadata": {},
   "outputs": [],
   "source": [
    "with open(dic_folder+'user_items_good.json', 'w') as f:\n",
    "    json.dump(user_items_good, f)\n",
    "    \n",
    "with open(dic_folder+'user_items_bad.json', 'w') as f:\n",
    "    json.dump(user_items_bad, f)"
   ]
  },
  {
   "cell_type": "code",
   "execution_count": 38,
   "metadata": {},
   "outputs": [],
   "source": [
    "del train_good\n",
    "del train_bad"
   ]
  },
  {
   "cell_type": "code",
   "execution_count": 14,
   "metadata": {},
   "outputs": [],
   "source": [
    "#user_items_good"
   ]
  },
  {
   "cell_type": "code",
   "execution_count": 15,
   "metadata": {},
   "outputs": [],
   "source": [
    "#user_items_bad"
   ]
  },
  {
   "cell_type": "code",
   "execution_count": 16,
   "metadata": {},
   "outputs": [],
   "source": [
    "users_in_good = set(list(user_items_good.keys()))\n",
    "users_in_bad = set(list(user_items_bad.keys()))\n",
    "users_in_both = users_in_good.intersection(users_in_bad)"
   ]
  },
  {
   "cell_type": "code",
   "execution_count": 18,
   "metadata": {},
   "outputs": [],
   "source": [
    "users_in_test = list(test_dic.keys())"
   ]
  },
  {
   "cell_type": "code",
   "execution_count": 19,
   "metadata": {},
   "outputs": [],
   "source": [
    "users_in_test_for_train = list(users_in_both.intersection(set(users_in_test)))"
   ]
  },
  {
   "cell_type": "code",
   "execution_count": 21,
   "metadata": {},
   "outputs": [
    {
     "name": "stdout",
     "output_type": "stream",
     "text": [
      "187183\n"
     ]
    }
   ],
   "source": [
    "print(len(users_in_test))"
   ]
  },
  {
   "cell_type": "code",
   "execution_count": 20,
   "metadata": {},
   "outputs": [
    {
     "name": "stdout",
     "output_type": "stream",
     "text": [
      "153109\n"
     ]
    }
   ],
   "source": [
    "print(len(users_in_test_for_train))"
   ]
  },
  {
   "cell_type": "code",
   "execution_count": 22,
   "metadata": {},
   "outputs": [
    {
     "data": {
      "application/vnd.jupyter.widget-view+json": {
       "model_id": "9753070f5463439f9af1d0f711af8eae",
       "version_major": 2,
       "version_minor": 0
      },
      "text/plain": [
       "HBox(children=(IntProgress(value=0, max=153109), HTML(value='')))"
      ]
     },
     "metadata": {},
     "output_type": "display_data"
    },
    {
     "name": "stdout",
     "output_type": "stream",
     "text": [
      "\n"
     ]
    }
   ],
   "source": [
    "min_item = 10\n",
    "k = 5\n",
    "\n",
    "user_items_good_k = {}\n",
    "user_items_bad_k = {}\n",
    "\n",
    "users_for_train = []\n",
    "\n",
    "for user in tqdm(users_in_test_for_train):\n",
    "    good_items = user_items_good[user]\n",
    "    bad_items = user_items_bad[user]\n",
    "    \n",
    "    if len(good_items) >= k and len(bad_items) >=min_item:\n",
    "        users_for_train.append(user)\n",
    "        user_items_good_k[user] = good_items[:k]\n",
    "        user_items_bad_k[user] = bad_items[:k]"
   ]
  },
  {
   "cell_type": "code",
   "execution_count": 23,
   "metadata": {},
   "outputs": [
    {
     "data": {
      "text/plain": [
       "36294"
      ]
     },
     "execution_count": 23,
     "metadata": {},
     "output_type": "execute_result"
    }
   ],
   "source": [
    "len(users_for_train)"
   ]
  },
  {
   "cell_type": "code",
   "execution_count": 25,
   "metadata": {},
   "outputs": [
    {
     "data": {
      "text/plain": [
       "0.04557030494587349"
      ]
     },
     "execution_count": 25,
     "metadata": {},
     "output_type": "execute_result"
    }
   ],
   "source": [
    "(len(users_for_train)*10.)/len(train)"
   ]
  },
  {
   "cell_type": "code",
   "execution_count": 67,
   "metadata": {},
   "outputs": [
    {
     "data": {
      "text/plain": [
       "7.176425482068841"
      ]
     },
     "execution_count": 67,
     "metadata": {},
     "output_type": "execute_result"
    }
   ],
   "source": [
    "len(train)/(len(users_for_train)*10.)"
   ]
  },
  {
   "cell_type": "code",
   "execution_count": 68,
   "metadata": {},
   "outputs": [
    {
     "data": {
      "text/plain": [
       "110980"
      ]
     },
     "execution_count": 68,
     "metadata": {},
     "output_type": "execute_result"
    }
   ],
   "source": [
    "len(users_for_train)"
   ]
  },
  {
   "cell_type": "code",
   "execution_count": 44,
   "metadata": {},
   "outputs": [],
   "source": [
    "#user_items_good_k"
   ]
  },
  {
   "cell_type": "code",
   "execution_count": 69,
   "metadata": {},
   "outputs": [
    {
     "name": "stdout",
     "output_type": "stream",
     "text": [
      "390274\n",
      "360368\n",
      "348633\n"
     ]
    }
   ],
   "source": [
    "print(len(users_in_good))\n",
    "print(len(users_in_bad))\n",
    "print(len(users_in_both ))"
   ]
  },
  {
   "cell_type": "code",
   "execution_count": 31,
   "metadata": {},
   "outputs": [],
   "source": [
    "# for user, items in user_items_bad.items():\n",
    "#     print(len(items))"
   ]
  },
  {
   "cell_type": "code",
   "execution_count": 32,
   "metadata": {},
   "outputs": [],
   "source": [
    "# for user, items in user_items_good.items():\n",
    "#     print(len(items))"
   ]
  },
  {
   "cell_type": "code",
   "execution_count": 26,
   "metadata": {},
   "outputs": [],
   "source": [
    "def create_df_from_predict(dic_predict):\n",
    "    user_res = []\n",
    "    item_res = []\n",
    "    for user, items in dic_predict.items():\n",
    "        row_user = [user]*len(items)\n",
    "        user_res.extend(row_user)\n",
    "        item_res.extend(items)\n",
    "\n",
    "    return pd.DataFrame({'user_id': user_res, 'primary_video_id': item_res})"
   ]
  },
  {
   "cell_type": "code",
   "execution_count": 30,
   "metadata": {},
   "outputs": [
    {
     "data": {
      "text/html": [
       "<div>\n",
       "<style scoped>\n",
       "    .dataframe tbody tr th:only-of-type {\n",
       "        vertical-align: middle;\n",
       "    }\n",
       "\n",
       "    .dataframe tbody tr th {\n",
       "        vertical-align: top;\n",
       "    }\n",
       "\n",
       "    .dataframe thead th {\n",
       "        text-align: right;\n",
       "    }\n",
       "</style>\n",
       "<table border=\"1\" class=\"dataframe\">\n",
       "  <thead>\n",
       "    <tr style=\"text-align: right;\">\n",
       "      <th></th>\n",
       "      <th>user_id</th>\n",
       "      <th>primary_video_id</th>\n",
       "      <th>is_relevant</th>\n",
       "    </tr>\n",
       "  </thead>\n",
       "  <tbody>\n",
       "    <tr>\n",
       "      <th>0</th>\n",
       "      <td>40092468</td>\n",
       "      <td>31657320</td>\n",
       "      <td>1</td>\n",
       "    </tr>\n",
       "    <tr>\n",
       "      <th>1</th>\n",
       "      <td>40092468</td>\n",
       "      <td>18526881</td>\n",
       "      <td>1</td>\n",
       "    </tr>\n",
       "  </tbody>\n",
       "</table>\n",
       "</div>"
      ],
      "text/plain": [
       "    user_id primary_video_id  is_relevant\n",
       "0  40092468         31657320            1\n",
       "1  40092468         18526881            1"
      ]
     },
     "execution_count": 30,
     "metadata": {},
     "output_type": "execute_result"
    }
   ],
   "source": [
    "df_good = create_df_from_predict(user_items_good_k)\n",
    "df_good['is_relevant'] = 1\n",
    "df_good.head(2)"
   ]
  },
  {
   "cell_type": "code",
   "execution_count": 29,
   "metadata": {},
   "outputs": [
    {
     "data": {
      "text/html": [
       "<div>\n",
       "<style scoped>\n",
       "    .dataframe tbody tr th:only-of-type {\n",
       "        vertical-align: middle;\n",
       "    }\n",
       "\n",
       "    .dataframe tbody tr th {\n",
       "        vertical-align: top;\n",
       "    }\n",
       "\n",
       "    .dataframe thead th {\n",
       "        text-align: right;\n",
       "    }\n",
       "</style>\n",
       "<table border=\"1\" class=\"dataframe\">\n",
       "  <thead>\n",
       "    <tr style=\"text-align: right;\">\n",
       "      <th></th>\n",
       "      <th>user_id</th>\n",
       "      <th>primary_video_id</th>\n",
       "      <th>is_relevant</th>\n",
       "    </tr>\n",
       "  </thead>\n",
       "  <tbody>\n",
       "    <tr>\n",
       "      <th>0</th>\n",
       "      <td>40092468</td>\n",
       "      <td>11536584</td>\n",
       "      <td>0</td>\n",
       "    </tr>\n",
       "    <tr>\n",
       "      <th>1</th>\n",
       "      <td>40092468</td>\n",
       "      <td>18763922</td>\n",
       "      <td>0</td>\n",
       "    </tr>\n",
       "  </tbody>\n",
       "</table>\n",
       "</div>"
      ],
      "text/plain": [
       "    user_id primary_video_id  is_relevant\n",
       "0  40092468         11536584            0\n",
       "1  40092468         18763922            0"
      ]
     },
     "execution_count": 29,
     "metadata": {},
     "output_type": "execute_result"
    }
   ],
   "source": [
    "df_bad = create_df_from_predict(user_items_bad_k)\n",
    "df_bad['is_relevant'] = 0\n",
    "df_bad.head(2)"
   ]
  },
  {
   "cell_type": "code",
   "execution_count": 31,
   "metadata": {},
   "outputs": [
    {
     "data": {
      "text/html": [
       "<div>\n",
       "<style scoped>\n",
       "    .dataframe tbody tr th:only-of-type {\n",
       "        vertical-align: middle;\n",
       "    }\n",
       "\n",
       "    .dataframe tbody tr th {\n",
       "        vertical-align: top;\n",
       "    }\n",
       "\n",
       "    .dataframe thead th {\n",
       "        text-align: right;\n",
       "    }\n",
       "</style>\n",
       "<table border=\"1\" class=\"dataframe\">\n",
       "  <thead>\n",
       "    <tr style=\"text-align: right;\">\n",
       "      <th></th>\n",
       "      <th>user_id</th>\n",
       "      <th>primary_video_id</th>\n",
       "      <th>is_relevant</th>\n",
       "    </tr>\n",
       "  </thead>\n",
       "  <tbody>\n",
       "    <tr>\n",
       "      <th>0</th>\n",
       "      <td>40092468</td>\n",
       "      <td>31657320</td>\n",
       "      <td>1</td>\n",
       "    </tr>\n",
       "    <tr>\n",
       "      <th>1</th>\n",
       "      <td>40092468</td>\n",
       "      <td>18526881</td>\n",
       "      <td>1</td>\n",
       "    </tr>\n",
       "  </tbody>\n",
       "</table>\n",
       "</div>"
      ],
      "text/plain": [
       "    user_id primary_video_id  is_relevant\n",
       "0  40092468         31657320            1\n",
       "1  40092468         18526881            1"
      ]
     },
     "execution_count": 31,
     "metadata": {},
     "output_type": "execute_result"
    }
   ],
   "source": [
    "df = df_good.append(df_bad)\n",
    "df.index = range(len(df))\n",
    "df.head(2)"
   ]
  },
  {
   "cell_type": "code",
   "execution_count": 32,
   "metadata": {},
   "outputs": [],
   "source": [
    "df.to_csv(model_folder+'new_df_good_bad_5.csv', index=None)"
   ]
  },
  {
   "cell_type": "markdown",
   "metadata": {},
   "source": [
    "# Upload meta info"
   ]
  },
  {
   "cell_type": "code",
   "execution_count": 21,
   "metadata": {},
   "outputs": [
    {
     "data": {
      "text/html": [
       "<div>\n",
       "<style scoped>\n",
       "    .dataframe tbody tr th:only-of-type {\n",
       "        vertical-align: middle;\n",
       "    }\n",
       "\n",
       "    .dataframe tbody tr th {\n",
       "        vertical-align: top;\n",
       "    }\n",
       "\n",
       "    .dataframe thead th {\n",
       "        text-align: right;\n",
       "    }\n",
       "</style>\n",
       "<table border=\"1\" class=\"dataframe\">\n",
       "  <thead>\n",
       "    <tr style=\"text-align: right;\">\n",
       "      <th></th>\n",
       "      <th>primary_video_id</th>\n",
       "      <th>title</th>\n",
       "      <th>type</th>\n",
       "      <th>year</th>\n",
       "      <th>country</th>\n",
       "      <th>rating_imdb</th>\n",
       "      <th>rating_kinopoisk</th>\n",
       "      <th>score_by_popular</th>\n",
       "      <th>score_by_recommended</th>\n",
       "      <th>quality</th>\n",
       "      <th>...</th>\n",
       "      <th>Семейные</th>\n",
       "      <th>Союзмультфильм</th>\n",
       "      <th>Спортивные</th>\n",
       "      <th>Триллеры</th>\n",
       "      <th>Ужасы</th>\n",
       "      <th>Фантастика</th>\n",
       "      <th>Фильмы</th>\n",
       "      <th>Фильмы в 3D</th>\n",
       "      <th>Футбол</th>\n",
       "      <th>Юмористические</th>\n",
       "    </tr>\n",
       "  </thead>\n",
       "  <tbody>\n",
       "    <tr>\n",
       "      <th>0</th>\n",
       "      <td>20069583</td>\n",
       "      <td>Мой лучший друг</td>\n",
       "      <td>FILM</td>\n",
       "      <td>2006</td>\n",
       "      <td>Франция</td>\n",
       "      <td>6.7</td>\n",
       "      <td>7.417</td>\n",
       "      <td>0.0</td>\n",
       "      <td>9283.0</td>\n",
       "      <td>FullHD</td>\n",
       "      <td>...</td>\n",
       "      <td>0</td>\n",
       "      <td>0</td>\n",
       "      <td>0</td>\n",
       "      <td>0</td>\n",
       "      <td>0</td>\n",
       "      <td>0</td>\n",
       "      <td>0</td>\n",
       "      <td>0</td>\n",
       "      <td>0</td>\n",
       "      <td>0</td>\n",
       "    </tr>\n",
       "    <tr>\n",
       "      <th>1</th>\n",
       "      <td>11492142</td>\n",
       "      <td>Бэндслэм</td>\n",
       "      <td>FILM</td>\n",
       "      <td>2009</td>\n",
       "      <td>США</td>\n",
       "      <td>6.3</td>\n",
       "      <td>6.766</td>\n",
       "      <td>16.0</td>\n",
       "      <td>8238.0</td>\n",
       "      <td>FullHD</td>\n",
       "      <td>...</td>\n",
       "      <td>0</td>\n",
       "      <td>0</td>\n",
       "      <td>0</td>\n",
       "      <td>0</td>\n",
       "      <td>0</td>\n",
       "      <td>0</td>\n",
       "      <td>0</td>\n",
       "      <td>0</td>\n",
       "      <td>0</td>\n",
       "      <td>0</td>\n",
       "    </tr>\n",
       "  </tbody>\n",
       "</table>\n",
       "<p>2 rows × 62 columns</p>\n",
       "</div>"
      ],
      "text/plain": [
       "  primary_video_id            title  type  year  country  rating_imdb  \\\n",
       "0         20069583  Мой лучший друг  FILM  2006  Франция          6.7   \n",
       "1         11492142         Бэндслэм  FILM  2009      США          6.3   \n",
       "\n",
       "   rating_kinopoisk  score_by_popular  score_by_recommended quality  ...  \\\n",
       "0             7.417               0.0                9283.0  FullHD  ...   \n",
       "1             6.766              16.0                8238.0  FullHD  ...   \n",
       "\n",
       "   Семейные  Союзмультфильм  Спортивные  Триллеры  Ужасы  Фантастика  Фильмы  \\\n",
       "0         0               0           0         0      0           0       0   \n",
       "1         0               0           0         0      0           0       0   \n",
       "\n",
       "   Фильмы в 3D  Футбол  Юмористические  \n",
       "0            0       0               0  \n",
       "1            0       0               0  \n",
       "\n",
       "[2 rows x 62 columns]"
      ]
     },
     "execution_count": 21,
     "metadata": {},
     "output_type": "execute_result"
    }
   ],
   "source": [
    "meta = pd.read_csv(new_data_folder+ 'film_meta.csv')\n",
    "meta['primary_video_id'] = meta['primary_video_id'].apply(str)\n",
    "meta.head(2)"
   ]
  },
  {
   "cell_type": "code",
   "execution_count": 26,
   "metadata": {},
   "outputs": [],
   "source": [
    "#meta.columns"
   ]
  },
  {
   "cell_type": "code",
   "execution_count": 30,
   "metadata": {},
   "outputs": [
    {
     "data": {
      "text/html": [
       "<div>\n",
       "<style scoped>\n",
       "    .dataframe tbody tr th:only-of-type {\n",
       "        vertical-align: middle;\n",
       "    }\n",
       "\n",
       "    .dataframe tbody tr th {\n",
       "        vertical-align: top;\n",
       "    }\n",
       "\n",
       "    .dataframe thead th {\n",
       "        text-align: right;\n",
       "    }\n",
       "</style>\n",
       "<table border=\"1\" class=\"dataframe\">\n",
       "  <thead>\n",
       "    <tr style=\"text-align: right;\">\n",
       "      <th></th>\n",
       "      <th>primary_video_id</th>\n",
       "      <th>title</th>\n",
       "      <th>type</th>\n",
       "      <th>year</th>\n",
       "      <th>country</th>\n",
       "      <th>rating_imdb</th>\n",
       "      <th>rating_kinopoisk</th>\n",
       "      <th>score_by_popular</th>\n",
       "      <th>score_by_recommended</th>\n",
       "      <th>quality</th>\n",
       "      <th>age_limit</th>\n",
       "      <th>for_kids</th>\n",
       "    </tr>\n",
       "  </thead>\n",
       "  <tbody>\n",
       "    <tr>\n",
       "      <th>0</th>\n",
       "      <td>20069583</td>\n",
       "      <td>Мой лучший друг</td>\n",
       "      <td>FILM</td>\n",
       "      <td>2006</td>\n",
       "      <td>Франция</td>\n",
       "      <td>6.7</td>\n",
       "      <td>7.417</td>\n",
       "      <td>0.0</td>\n",
       "      <td>9283.0</td>\n",
       "      <td>FullHD</td>\n",
       "      <td>16</td>\n",
       "      <td>0</td>\n",
       "    </tr>\n",
       "    <tr>\n",
       "      <th>1</th>\n",
       "      <td>11492142</td>\n",
       "      <td>Бэндслэм</td>\n",
       "      <td>FILM</td>\n",
       "      <td>2009</td>\n",
       "      <td>США</td>\n",
       "      <td>6.3</td>\n",
       "      <td>6.766</td>\n",
       "      <td>16.0</td>\n",
       "      <td>8238.0</td>\n",
       "      <td>FullHD</td>\n",
       "      <td>12</td>\n",
       "      <td>0</td>\n",
       "    </tr>\n",
       "    <tr>\n",
       "      <th>2</th>\n",
       "      <td>24885597</td>\n",
       "      <td>Толстяки</td>\n",
       "      <td>FILM</td>\n",
       "      <td>2009</td>\n",
       "      <td>Испания</td>\n",
       "      <td>6.7</td>\n",
       "      <td>6.962</td>\n",
       "      <td>9.0</td>\n",
       "      <td>6700.0</td>\n",
       "      <td>HD</td>\n",
       "      <td>16</td>\n",
       "      <td>0</td>\n",
       "    </tr>\n",
       "  </tbody>\n",
       "</table>\n",
       "</div>"
      ],
      "text/plain": [
       "  primary_video_id            title  type  year  country  rating_imdb  \\\n",
       "0         20069583  Мой лучший друг  FILM  2006  Франция          6.7   \n",
       "1         11492142         Бэндслэм  FILM  2009      США          6.3   \n",
       "2         24885597         Толстяки  FILM  2009  Испания          6.7   \n",
       "\n",
       "   rating_kinopoisk  score_by_popular  score_by_recommended quality  \\\n",
       "0             7.417               0.0                9283.0  FullHD   \n",
       "1             6.766              16.0                8238.0  FullHD   \n",
       "2             6.962               9.0                6700.0      HD   \n",
       "\n",
       "   age_limit  for_kids  \n",
       "0         16         0  \n",
       "1         12         0  \n",
       "2         16         0  "
      ]
     },
     "execution_count": 30,
     "metadata": {},
     "output_type": "execute_result"
    }
   ],
   "source": [
    "meta.iloc[:3,:12]"
   ]
  },
  {
   "cell_type": "markdown",
   "metadata": {},
   "source": [
    "# Merge"
   ]
  },
  {
   "cell_type": "code",
   "execution_count": 82,
   "metadata": {},
   "outputs": [
    {
     "data": {
      "text/html": [
       "<div>\n",
       "<style scoped>\n",
       "    .dataframe tbody tr th:only-of-type {\n",
       "        vertical-align: middle;\n",
       "    }\n",
       "\n",
       "    .dataframe tbody tr th {\n",
       "        vertical-align: top;\n",
       "    }\n",
       "\n",
       "    .dataframe thead th {\n",
       "        text-align: right;\n",
       "    }\n",
       "</style>\n",
       "<table border=\"1\" class=\"dataframe\">\n",
       "  <thead>\n",
       "    <tr style=\"text-align: right;\">\n",
       "      <th></th>\n",
       "      <th>user_id</th>\n",
       "      <th>primary_video_id</th>\n",
       "      <th>is_relevant</th>\n",
       "      <th>title</th>\n",
       "      <th>type</th>\n",
       "      <th>year</th>\n",
       "      <th>country</th>\n",
       "      <th>rating_imdb</th>\n",
       "      <th>rating_kinopoisk</th>\n",
       "      <th>score_by_popular</th>\n",
       "      <th>...</th>\n",
       "      <th>Семейные</th>\n",
       "      <th>Союзмультфильм</th>\n",
       "      <th>Спортивные</th>\n",
       "      <th>Триллеры</th>\n",
       "      <th>Ужасы</th>\n",
       "      <th>Фантастика</th>\n",
       "      <th>Фильмы</th>\n",
       "      <th>Фильмы в 3D</th>\n",
       "      <th>Футбол</th>\n",
       "      <th>Юмористические</th>\n",
       "    </tr>\n",
       "  </thead>\n",
       "  <tbody>\n",
       "    <tr>\n",
       "      <th>0</th>\n",
       "      <td>23019489</td>\n",
       "      <td>31148166</td>\n",
       "      <td>1</td>\n",
       "      <td>Рэй и пожарный патруль</td>\n",
       "      <td>SERIAL</td>\n",
       "      <td>2016</td>\n",
       "      <td>Корея Южная</td>\n",
       "      <td>0.0</td>\n",
       "      <td>0.0</td>\n",
       "      <td>25.0</td>\n",
       "      <td>...</td>\n",
       "      <td>0</td>\n",
       "      <td>0</td>\n",
       "      <td>0</td>\n",
       "      <td>0</td>\n",
       "      <td>0</td>\n",
       "      <td>1</td>\n",
       "      <td>0</td>\n",
       "      <td>0</td>\n",
       "      <td>0</td>\n",
       "      <td>0</td>\n",
       "    </tr>\n",
       "    <tr>\n",
       "      <th>1</th>\n",
       "      <td>40670883</td>\n",
       "      <td>31148166</td>\n",
       "      <td>1</td>\n",
       "      <td>Рэй и пожарный патруль</td>\n",
       "      <td>SERIAL</td>\n",
       "      <td>2016</td>\n",
       "      <td>Корея Южная</td>\n",
       "      <td>0.0</td>\n",
       "      <td>0.0</td>\n",
       "      <td>25.0</td>\n",
       "      <td>...</td>\n",
       "      <td>0</td>\n",
       "      <td>0</td>\n",
       "      <td>0</td>\n",
       "      <td>0</td>\n",
       "      <td>0</td>\n",
       "      <td>1</td>\n",
       "      <td>0</td>\n",
       "      <td>0</td>\n",
       "      <td>0</td>\n",
       "      <td>0</td>\n",
       "    </tr>\n",
       "  </tbody>\n",
       "</table>\n",
       "<p>2 rows × 64 columns</p>\n",
       "</div>"
      ],
      "text/plain": [
       "    user_id primary_video_id  is_relevant                   title    type  \\\n",
       "0  23019489         31148166            1  Рэй и пожарный патруль  SERIAL   \n",
       "1  40670883         31148166            1  Рэй и пожарный патруль  SERIAL   \n",
       "\n",
       "   year      country  rating_imdb  rating_kinopoisk  score_by_popular  ...  \\\n",
       "0  2016  Корея Южная          0.0               0.0              25.0  ...   \n",
       "1  2016  Корея Южная          0.0               0.0              25.0  ...   \n",
       "\n",
       "   Семейные Союзмультфильм  Спортивные  Триллеры  Ужасы  Фантастика  Фильмы  \\\n",
       "0         0              0           0         0      0           1       0   \n",
       "1         0              0           0         0      0           1       0   \n",
       "\n",
       "   Фильмы в 3D  Футбол  Юмористические  \n",
       "0            0       0               0  \n",
       "1            0       0               0  \n",
       "\n",
       "[2 rows x 64 columns]"
      ]
     },
     "execution_count": 82,
     "metadata": {},
     "output_type": "execute_result"
    }
   ],
   "source": [
    "merg = df.merge(meta, how='inner', on='primary_video_id')\n",
    "merg.head(2)"
   ]
  },
  {
   "cell_type": "code",
   "execution_count": 87,
   "metadata": {},
   "outputs": [],
   "source": [
    "merg = merg.merge(user_features_df, on='user_id', how='inner')\n",
    "merg = merg.merge(item_features_df, on='primary_video_id', how='inner')"
   ]
  },
  {
   "cell_type": "code",
   "execution_count": 88,
   "metadata": {},
   "outputs": [
    {
     "data": {
      "text/html": [
       "<div>\n",
       "<style scoped>\n",
       "    .dataframe tbody tr th:only-of-type {\n",
       "        vertical-align: middle;\n",
       "    }\n",
       "\n",
       "    .dataframe tbody tr th {\n",
       "        vertical-align: top;\n",
       "    }\n",
       "\n",
       "    .dataframe thead th {\n",
       "        text-align: right;\n",
       "    }\n",
       "</style>\n",
       "<table border=\"1\" class=\"dataframe\">\n",
       "  <thead>\n",
       "    <tr style=\"text-align: right;\">\n",
       "      <th></th>\n",
       "      <th>user_id</th>\n",
       "      <th>primary_video_id</th>\n",
       "      <th>is_relevant</th>\n",
       "      <th>title</th>\n",
       "      <th>type</th>\n",
       "      <th>year</th>\n",
       "      <th>country</th>\n",
       "      <th>rating_imdb</th>\n",
       "      <th>rating_kinopoisk</th>\n",
       "      <th>score_by_popular</th>\n",
       "      <th>...</th>\n",
       "      <th>if165</th>\n",
       "      <th>if166</th>\n",
       "      <th>if167</th>\n",
       "      <th>if168</th>\n",
       "      <th>if169</th>\n",
       "      <th>if170</th>\n",
       "      <th>if171</th>\n",
       "      <th>if172</th>\n",
       "      <th>if173</th>\n",
       "      <th>if174</th>\n",
       "    </tr>\n",
       "  </thead>\n",
       "  <tbody>\n",
       "    <tr>\n",
       "      <th>0</th>\n",
       "      <td>23019489</td>\n",
       "      <td>31148166</td>\n",
       "      <td>1</td>\n",
       "      <td>Рэй и пожарный патруль</td>\n",
       "      <td>SERIAL</td>\n",
       "      <td>2016</td>\n",
       "      <td>Корея Южная</td>\n",
       "      <td>0.0</td>\n",
       "      <td>0.0</td>\n",
       "      <td>25.0</td>\n",
       "      <td>...</td>\n",
       "      <td>0.024826</td>\n",
       "      <td>-0.015084</td>\n",
       "      <td>0.058009</td>\n",
       "      <td>0.005374</td>\n",
       "      <td>-0.060746</td>\n",
       "      <td>0.034847</td>\n",
       "      <td>0.022787</td>\n",
       "      <td>-0.047644</td>\n",
       "      <td>-0.019371</td>\n",
       "      <td>-0.053590</td>\n",
       "    </tr>\n",
       "    <tr>\n",
       "      <th>1</th>\n",
       "      <td>23019489</td>\n",
       "      <td>31148166</td>\n",
       "      <td>1</td>\n",
       "      <td>Рэй и пожарный патруль</td>\n",
       "      <td>SERIAL</td>\n",
       "      <td>2016</td>\n",
       "      <td>Корея Южная</td>\n",
       "      <td>0.0</td>\n",
       "      <td>0.0</td>\n",
       "      <td>25.0</td>\n",
       "      <td>...</td>\n",
       "      <td>0.001421</td>\n",
       "      <td>0.002654</td>\n",
       "      <td>0.004027</td>\n",
       "      <td>0.001517</td>\n",
       "      <td>0.001386</td>\n",
       "      <td>-0.001390</td>\n",
       "      <td>0.003549</td>\n",
       "      <td>0.005014</td>\n",
       "      <td>0.000207</td>\n",
       "      <td>0.000232</td>\n",
       "    </tr>\n",
       "  </tbody>\n",
       "</table>\n",
       "<p>2 rows × 414 columns</p>\n",
       "</div>"
      ],
      "text/plain": [
       "    user_id primary_video_id  is_relevant                   title    type  \\\n",
       "0  23019489         31148166            1  Рэй и пожарный патруль  SERIAL   \n",
       "1  23019489         31148166            1  Рэй и пожарный патруль  SERIAL   \n",
       "\n",
       "   year      country  rating_imdb  rating_kinopoisk  score_by_popular  ...  \\\n",
       "0  2016  Корея Южная          0.0               0.0              25.0  ...   \n",
       "1  2016  Корея Южная          0.0               0.0              25.0  ...   \n",
       "\n",
       "      if165     if166     if167     if168     if169     if170     if171  \\\n",
       "0  0.024826 -0.015084  0.058009  0.005374 -0.060746  0.034847  0.022787   \n",
       "1  0.001421  0.002654  0.004027  0.001517  0.001386 -0.001390  0.003549   \n",
       "\n",
       "      if172     if173     if174  \n",
       "0 -0.047644 -0.019371 -0.053590  \n",
       "1  0.005014  0.000207  0.000232  \n",
       "\n",
       "[2 rows x 414 columns]"
      ]
     },
     "execution_count": 88,
     "metadata": {},
     "output_type": "execute_result"
    }
   ],
   "source": [
    "merg.head(2)"
   ]
  },
  {
   "cell_type": "markdown",
   "metadata": {},
   "source": [
    "# Catboost"
   ]
  },
  {
   "cell_type": "code",
   "execution_count": 89,
   "metadata": {},
   "outputs": [],
   "source": [
    "import catboost\n",
    "from catboost import *\n",
    "from catboost import CatBoostClassifier"
   ]
  },
  {
   "cell_type": "code",
   "execution_count": 91,
   "metadata": {},
   "outputs": [
    {
     "data": {
      "text/html": [
       "<div>\n",
       "<style scoped>\n",
       "    .dataframe tbody tr th:only-of-type {\n",
       "        vertical-align: middle;\n",
       "    }\n",
       "\n",
       "    .dataframe tbody tr th {\n",
       "        vertical-align: top;\n",
       "    }\n",
       "\n",
       "    .dataframe thead th {\n",
       "        text-align: right;\n",
       "    }\n",
       "</style>\n",
       "<table border=\"1\" class=\"dataframe\">\n",
       "  <thead>\n",
       "    <tr style=\"text-align: right;\">\n",
       "      <th></th>\n",
       "      <th>title</th>\n",
       "      <th>type</th>\n",
       "      <th>year</th>\n",
       "      <th>country</th>\n",
       "      <th>rating_imdb</th>\n",
       "      <th>rating_kinopoisk</th>\n",
       "      <th>score_by_popular</th>\n",
       "      <th>score_by_recommended</th>\n",
       "      <th>quality</th>\n",
       "      <th>age_limit</th>\n",
       "      <th>...</th>\n",
       "      <th>if165</th>\n",
       "      <th>if166</th>\n",
       "      <th>if167</th>\n",
       "      <th>if168</th>\n",
       "      <th>if169</th>\n",
       "      <th>if170</th>\n",
       "      <th>if171</th>\n",
       "      <th>if172</th>\n",
       "      <th>if173</th>\n",
       "      <th>if174</th>\n",
       "    </tr>\n",
       "  </thead>\n",
       "  <tbody>\n",
       "    <tr>\n",
       "      <th>0</th>\n",
       "      <td>Рэй и пожарный патруль</td>\n",
       "      <td>SERIAL</td>\n",
       "      <td>2016</td>\n",
       "      <td>Корея Южная</td>\n",
       "      <td>0.0</td>\n",
       "      <td>0.0</td>\n",
       "      <td>25.0</td>\n",
       "      <td>10199.0</td>\n",
       "      <td>No information</td>\n",
       "      <td>0</td>\n",
       "      <td>...</td>\n",
       "      <td>0.024826</td>\n",
       "      <td>-0.015084</td>\n",
       "      <td>0.058009</td>\n",
       "      <td>0.005374</td>\n",
       "      <td>-0.060746</td>\n",
       "      <td>0.034847</td>\n",
       "      <td>0.022787</td>\n",
       "      <td>-0.047644</td>\n",
       "      <td>-0.019371</td>\n",
       "      <td>-0.053590</td>\n",
       "    </tr>\n",
       "    <tr>\n",
       "      <th>1</th>\n",
       "      <td>Рэй и пожарный патруль</td>\n",
       "      <td>SERIAL</td>\n",
       "      <td>2016</td>\n",
       "      <td>Корея Южная</td>\n",
       "      <td>0.0</td>\n",
       "      <td>0.0</td>\n",
       "      <td>25.0</td>\n",
       "      <td>10199.0</td>\n",
       "      <td>No information</td>\n",
       "      <td>0</td>\n",
       "      <td>...</td>\n",
       "      <td>0.001421</td>\n",
       "      <td>0.002654</td>\n",
       "      <td>0.004027</td>\n",
       "      <td>0.001517</td>\n",
       "      <td>0.001386</td>\n",
       "      <td>-0.001390</td>\n",
       "      <td>0.003549</td>\n",
       "      <td>0.005014</td>\n",
       "      <td>0.000207</td>\n",
       "      <td>0.000232</td>\n",
       "    </tr>\n",
       "  </tbody>\n",
       "</table>\n",
       "<p>2 rows × 411 columns</p>\n",
       "</div>"
      ],
      "text/plain": [
       "                    title    type  year      country  rating_imdb  \\\n",
       "0  Рэй и пожарный патруль  SERIAL  2016  Корея Южная          0.0   \n",
       "1  Рэй и пожарный патруль  SERIAL  2016  Корея Южная          0.0   \n",
       "\n",
       "   rating_kinopoisk  score_by_popular  score_by_recommended         quality  \\\n",
       "0               0.0              25.0               10199.0  No information   \n",
       "1               0.0              25.0               10199.0  No information   \n",
       "\n",
       "   age_limit  ...     if165     if166     if167     if168     if169     if170  \\\n",
       "0          0  ...  0.024826 -0.015084  0.058009  0.005374 -0.060746  0.034847   \n",
       "1          0  ...  0.001421  0.002654  0.004027  0.001517  0.001386 -0.001390   \n",
       "\n",
       "      if171     if172     if173     if174  \n",
       "0  0.022787 -0.047644 -0.019371 -0.053590  \n",
       "1  0.003549  0.005014  0.000207  0.000232  \n",
       "\n",
       "[2 rows x 411 columns]"
      ]
     },
     "execution_count": 91,
     "metadata": {},
     "output_type": "execute_result"
    }
   ],
   "source": [
    "target = merg['is_relevant']\n",
    "merg = merg.drop(['user_id','primary_video_id', 'is_relevant'], axis=1)\n",
    "merg.head(2)"
   ]
  },
  {
   "cell_type": "code",
   "execution_count": null,
   "metadata": {},
   "outputs": [],
   "source": [
    "cat_features = [0,1,2,3,8,9,10]\n",
    "\n",
    "gen_ind = list(range(11,61)) #64\n",
    "cat_features.extend(gen_ind)"
   ]
  },
  {
   "cell_type": "code",
   "execution_count": null,
   "metadata": {},
   "outputs": [],
   "source": [
    "X_train, X_validation, y_train, y_validation = train_test_split(merg, target, train_size=0.5, random_state=4, shuffle=True)"
   ]
  }
 ],
 "metadata": {
  "kernelspec": {
   "display_name": "Python 3",
   "language": "python",
   "name": "python3"
  },
  "language_info": {
   "codemirror_mode": {
    "name": "ipython",
    "version": 3
   },
   "file_extension": ".py",
   "mimetype": "text/x-python",
   "name": "python",
   "nbconvert_exporter": "python",
   "pygments_lexer": "ipython3",
   "version": "3.6.9"
  }
 },
 "nbformat": 4,
 "nbformat_minor": 2
}
