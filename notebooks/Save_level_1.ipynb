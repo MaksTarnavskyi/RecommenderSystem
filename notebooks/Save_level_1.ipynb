{
 "cells": [
  {
   "cell_type": "code",
   "execution_count": 2,
   "metadata": {},
   "outputs": [],
   "source": [
    "import pandas as pd\n",
    "import numpy as np\n",
    "import os\n",
    "import copy\n",
    "import json\n",
    "from tqdm.auto import tqdm\n",
    "\n",
    "%load_ext autoreload\n",
    "%autoreload 2"
   ]
  },
  {
   "cell_type": "code",
   "execution_count": 3,
   "metadata": {},
   "outputs": [],
   "source": [
    "num_factors = 100\n",
    "\n",
    "data_folder = '../data_Megogo/'\n",
    "new_data_folder = '../generated_data/'\n",
    "model_folder = new_data_folder +'models/factor_'+str(num_factors)+'/'\n",
    "dic_folder = new_data_folder+'dic/'"
   ]
  },
  {
   "cell_type": "code",
   "execution_count": 4,
   "metadata": {},
   "outputs": [],
   "source": [
    "import export_modules\n",
    "from app.Recommender_implicit_new import Implicit\n",
    "from app.metrics_new import Metrics"
   ]
  },
  {
   "cell_type": "code",
   "execution_count": 5,
   "metadata": {},
   "outputs": [
    {
     "data": {
      "text/html": [
       "<div>\n",
       "<style scoped>\n",
       "    .dataframe tbody tr th:only-of-type {\n",
       "        vertical-align: middle;\n",
       "    }\n",
       "\n",
       "    .dataframe tbody tr th {\n",
       "        vertical-align: top;\n",
       "    }\n",
       "\n",
       "    .dataframe thead th {\n",
       "        text-align: right;\n",
       "    }\n",
       "</style>\n",
       "<table border=\"1\" class=\"dataframe\">\n",
       "  <thead>\n",
       "    <tr style=\"text-align: right;\">\n",
       "      <th></th>\n",
       "      <th>user</th>\n",
       "      <th>item</th>\n",
       "      <th>rating</th>\n",
       "    </tr>\n",
       "  </thead>\n",
       "  <tbody>\n",
       "    <tr>\n",
       "      <th>0</th>\n",
       "      <td>21603820</td>\n",
       "      <td>9583642</td>\n",
       "      <td>0.0839</td>\n",
       "    </tr>\n",
       "    <tr>\n",
       "      <th>1</th>\n",
       "      <td>35636970</td>\n",
       "      <td>24645936</td>\n",
       "      <td>0.5990</td>\n",
       "    </tr>\n",
       "  </tbody>\n",
       "</table>\n",
       "</div>"
      ],
      "text/plain": [
       "       user      item  rating\n",
       "0  21603820   9583642  0.0839\n",
       "1  35636970  24645936  0.5990"
      ]
     },
     "execution_count": 5,
     "metadata": {},
     "output_type": "execute_result"
    }
   ],
   "source": [
    "train = pd.read_csv(new_data_folder+'train_first_level.csv')\n",
    "train[['user', 'item']] = train[['user', 'item']].astype(str)\n",
    "train.head(2)"
   ]
  },
  {
   "cell_type": "code",
   "execution_count": 6,
   "metadata": {},
   "outputs": [],
   "source": [
    "with open(dic_folder+'test_dic.json', 'r') as f:\n",
    "    test_dic = json.load(f) "
   ]
  },
  {
   "cell_type": "code",
   "execution_count": 7,
   "metadata": {},
   "outputs": [],
   "source": [
    "users_in_test = list(test_dic.keys())"
   ]
  },
  {
   "cell_type": "code",
   "execution_count": 8,
   "metadata": {},
   "outputs": [],
   "source": [
    "rec = Implicit()\n",
    "rec.fit_trainset(train)"
   ]
  },
  {
   "cell_type": "code",
   "execution_count": 9,
   "metadata": {},
   "outputs": [
    {
     "name": "stderr",
     "output_type": "stream",
     "text": [
      "WARNING:root:OpenBLAS detected. Its highly recommend to set the environment variable 'export OPENBLAS_NUM_THREADS=1' to disable its internal multithreading\n",
      "100%|██████████| 10.0/10 [00:25<00:00,  2.59s/it]\n"
     ]
    }
   ],
   "source": [
    "dic_param = {'factors': num_factors, 'regularization':1, 'iterations':10, 'use_cg':True}\n",
    "rec.fit_model(dic_param)"
   ]
  },
  {
   "cell_type": "code",
   "execution_count": 13,
   "metadata": {},
   "outputs": [
    {
     "name": "stdout",
     "output_type": "stream",
     "text": [
      "Model has succesfuly been dumped!\n"
     ]
    }
   ],
   "source": [
    "rec.dump_model(model_folder+'model_als')"
   ]
  },
  {
   "cell_type": "markdown",
   "metadata": {},
   "source": [
    "# Predict for demonstration"
   ]
  },
  {
   "cell_type": "code",
   "execution_count": 23,
   "metadata": {},
   "outputs": [
    {
     "name": "stderr",
     "output_type": "stream",
     "text": [
      "100%|██████████| 187180/187180 [00:25<00:00, 7235.91it/s]\n"
     ]
    }
   ],
   "source": [
    "k = 10\n",
    "rec.set_k(k)\n",
    "\n",
    "predict_df = rec.recommend_df(users_in_test[3:], filter_already_liked_items=False, return_scores=True)"
   ]
  },
  {
   "cell_type": "code",
   "execution_count": 24,
   "metadata": {},
   "outputs": [],
   "source": [
    "predict_df.columns = ['user_id', 'video_id', 'score']"
   ]
  },
  {
   "cell_type": "code",
   "execution_count": 25,
   "metadata": {},
   "outputs": [
    {
     "data": {
      "text/html": [
       "<div>\n",
       "<style scoped>\n",
       "    .dataframe tbody tr th:only-of-type {\n",
       "        vertical-align: middle;\n",
       "    }\n",
       "\n",
       "    .dataframe tbody tr th {\n",
       "        vertical-align: top;\n",
       "    }\n",
       "\n",
       "    .dataframe thead th {\n",
       "        text-align: right;\n",
       "    }\n",
       "</style>\n",
       "<table border=\"1\" class=\"dataframe\">\n",
       "  <thead>\n",
       "    <tr style=\"text-align: right;\">\n",
       "      <th></th>\n",
       "      <th>user_id</th>\n",
       "      <th>video_id</th>\n",
       "      <th>score</th>\n",
       "    </tr>\n",
       "  </thead>\n",
       "  <tbody>\n",
       "    <tr>\n",
       "      <th>0</th>\n",
       "      <td>235599</td>\n",
       "      <td>21757334</td>\n",
       "      <td>0.929609</td>\n",
       "    </tr>\n",
       "    <tr>\n",
       "      <th>1</th>\n",
       "      <td>235599</td>\n",
       "      <td>6597685</td>\n",
       "      <td>0.912704</td>\n",
       "    </tr>\n",
       "    <tr>\n",
       "      <th>2</th>\n",
       "      <td>235599</td>\n",
       "      <td>33501500</td>\n",
       "      <td>0.878318</td>\n",
       "    </tr>\n",
       "    <tr>\n",
       "      <th>3</th>\n",
       "      <td>235599</td>\n",
       "      <td>4889342</td>\n",
       "      <td>0.824930</td>\n",
       "    </tr>\n",
       "    <tr>\n",
       "      <th>4</th>\n",
       "      <td>235599</td>\n",
       "      <td>22328483</td>\n",
       "      <td>0.800370</td>\n",
       "    </tr>\n",
       "    <tr>\n",
       "      <th>5</th>\n",
       "      <td>235599</td>\n",
       "      <td>14540399</td>\n",
       "      <td>0.799846</td>\n",
       "    </tr>\n",
       "    <tr>\n",
       "      <th>6</th>\n",
       "      <td>235599</td>\n",
       "      <td>3636342</td>\n",
       "      <td>0.783520</td>\n",
       "    </tr>\n",
       "    <tr>\n",
       "      <th>7</th>\n",
       "      <td>235599</td>\n",
       "      <td>10979465</td>\n",
       "      <td>0.771781</td>\n",
       "    </tr>\n",
       "    <tr>\n",
       "      <th>8</th>\n",
       "      <td>235599</td>\n",
       "      <td>13536958</td>\n",
       "      <td>0.769564</td>\n",
       "    </tr>\n",
       "    <tr>\n",
       "      <th>9</th>\n",
       "      <td>235599</td>\n",
       "      <td>15117563</td>\n",
       "      <td>0.750291</td>\n",
       "    </tr>\n",
       "    <tr>\n",
       "      <th>10</th>\n",
       "      <td>274770</td>\n",
       "      <td>27946137</td>\n",
       "      <td>1.004788</td>\n",
       "    </tr>\n",
       "    <tr>\n",
       "      <th>11</th>\n",
       "      <td>274770</td>\n",
       "      <td>1532356</td>\n",
       "      <td>0.962312</td>\n",
       "    </tr>\n",
       "    <tr>\n",
       "      <th>12</th>\n",
       "      <td>274770</td>\n",
       "      <td>30312899</td>\n",
       "      <td>0.939394</td>\n",
       "    </tr>\n",
       "    <tr>\n",
       "      <th>13</th>\n",
       "      <td>274770</td>\n",
       "      <td>31382698</td>\n",
       "      <td>0.719055</td>\n",
       "    </tr>\n",
       "    <tr>\n",
       "      <th>14</th>\n",
       "      <td>274770</td>\n",
       "      <td>28776964</td>\n",
       "      <td>0.707379</td>\n",
       "    </tr>\n",
       "    <tr>\n",
       "      <th>15</th>\n",
       "      <td>274770</td>\n",
       "      <td>6879372</td>\n",
       "      <td>0.693715</td>\n",
       "    </tr>\n",
       "    <tr>\n",
       "      <th>16</th>\n",
       "      <td>274770</td>\n",
       "      <td>32425030</td>\n",
       "      <td>0.664902</td>\n",
       "    </tr>\n",
       "    <tr>\n",
       "      <th>17</th>\n",
       "      <td>274770</td>\n",
       "      <td>9940621</td>\n",
       "      <td>0.660943</td>\n",
       "    </tr>\n",
       "    <tr>\n",
       "      <th>18</th>\n",
       "      <td>274770</td>\n",
       "      <td>2435659</td>\n",
       "      <td>0.595434</td>\n",
       "    </tr>\n",
       "    <tr>\n",
       "      <th>19</th>\n",
       "      <td>274770</td>\n",
       "      <td>25656141</td>\n",
       "      <td>0.586909</td>\n",
       "    </tr>\n",
       "    <tr>\n",
       "      <th>20</th>\n",
       "      <td>554364</td>\n",
       "      <td>10735044</td>\n",
       "      <td>0.974858</td>\n",
       "    </tr>\n",
       "    <tr>\n",
       "      <th>21</th>\n",
       "      <td>554364</td>\n",
       "      <td>27740348</td>\n",
       "      <td>0.944916</td>\n",
       "    </tr>\n",
       "    <tr>\n",
       "      <th>22</th>\n",
       "      <td>554364</td>\n",
       "      <td>9516870</td>\n",
       "      <td>0.935661</td>\n",
       "    </tr>\n",
       "    <tr>\n",
       "      <th>23</th>\n",
       "      <td>554364</td>\n",
       "      <td>16850733</td>\n",
       "      <td>0.863272</td>\n",
       "    </tr>\n",
       "    <tr>\n",
       "      <th>24</th>\n",
       "      <td>554364</td>\n",
       "      <td>25146623</td>\n",
       "      <td>0.822834</td>\n",
       "    </tr>\n",
       "    <tr>\n",
       "      <th>25</th>\n",
       "      <td>554364</td>\n",
       "      <td>28473701</td>\n",
       "      <td>0.819629</td>\n",
       "    </tr>\n",
       "    <tr>\n",
       "      <th>26</th>\n",
       "      <td>554364</td>\n",
       "      <td>10728482</td>\n",
       "      <td>0.810285</td>\n",
       "    </tr>\n",
       "    <tr>\n",
       "      <th>27</th>\n",
       "      <td>554364</td>\n",
       "      <td>709139</td>\n",
       "      <td>0.792374</td>\n",
       "    </tr>\n",
       "    <tr>\n",
       "      <th>28</th>\n",
       "      <td>554364</td>\n",
       "      <td>5159408</td>\n",
       "      <td>0.791814</td>\n",
       "    </tr>\n",
       "    <tr>\n",
       "      <th>29</th>\n",
       "      <td>554364</td>\n",
       "      <td>18775834</td>\n",
       "      <td>0.787439</td>\n",
       "    </tr>\n",
       "  </tbody>\n",
       "</table>\n",
       "</div>"
      ],
      "text/plain": [
       "   user_id  video_id     score\n",
       "0   235599  21757334  0.929609\n",
       "1   235599   6597685  0.912704\n",
       "2   235599  33501500  0.878318\n",
       "3   235599   4889342  0.824930\n",
       "4   235599  22328483  0.800370\n",
       "5   235599  14540399  0.799846\n",
       "6   235599   3636342  0.783520\n",
       "7   235599  10979465  0.771781\n",
       "8   235599  13536958  0.769564\n",
       "9   235599  15117563  0.750291\n",
       "10  274770  27946137  1.004788\n",
       "11  274770   1532356  0.962312\n",
       "12  274770  30312899  0.939394\n",
       "13  274770  31382698  0.719055\n",
       "14  274770  28776964  0.707379\n",
       "15  274770   6879372  0.693715\n",
       "16  274770  32425030  0.664902\n",
       "17  274770   9940621  0.660943\n",
       "18  274770   2435659  0.595434\n",
       "19  274770  25656141  0.586909\n",
       "20  554364  10735044  0.974858\n",
       "21  554364  27740348  0.944916\n",
       "22  554364   9516870  0.935661\n",
       "23  554364  16850733  0.863272\n",
       "24  554364  25146623  0.822834\n",
       "25  554364  28473701  0.819629\n",
       "26  554364  10728482  0.810285\n",
       "27  554364    709139  0.792374\n",
       "28  554364   5159408  0.791814\n",
       "29  554364  18775834  0.787439"
      ]
     },
     "execution_count": 25,
     "metadata": {},
     "output_type": "execute_result"
    }
   ],
   "source": [
    "predict_df.head(30)"
   ]
  },
  {
   "cell_type": "markdown",
   "metadata": {},
   "source": [
    "# Upload meta for filter"
   ]
  },
  {
   "cell_type": "code",
   "execution_count": 14,
   "metadata": {},
   "outputs": [],
   "source": [
    "with open(dic_folder+'meta_type_dic.json', 'r') as f:\n",
    "    meta_type_dic = json.load(f) "
   ]
  },
  {
   "cell_type": "code",
   "execution_count": 15,
   "metadata": {},
   "outputs": [],
   "source": [
    "with open(dic_folder+'train_dic.json', 'r') as f:\n",
    "    train_dic = json.load(f) "
   ]
  },
  {
   "cell_type": "code",
   "execution_count": 16,
   "metadata": {},
   "outputs": [
    {
     "name": "stderr",
     "output_type": "stream",
     "text": [
      "100%|██████████| 187183/187183 [00:37<00:00, 4990.01it/s]\n"
     ]
    }
   ],
   "source": [
    "k = 80\n",
    "rec.set_k(k)\n",
    "\n",
    "predict_ = rec.recommend(users_in_test, filter_already_liked_items=False)"
   ]
  },
  {
   "cell_type": "code",
   "execution_count": 17,
   "metadata": {},
   "outputs": [
    {
     "data": {
      "application/vnd.jupyter.widget-view+json": {
       "model_id": "edf41569f51f43649381b91d385f383c",
       "version_major": 2,
       "version_minor": 0
      },
      "text/plain": [
       "HBox(children=(IntProgress(value=0, max=187183), HTML(value='')))"
      ]
     },
     "metadata": {},
     "output_type": "display_data"
    },
    {
     "name": "stdout",
     "output_type": "stream",
     "text": [
      "\n"
     ]
    }
   ],
   "source": [
    "predict_to_filter = predict_\n",
    "\n",
    "predict_filtered = {}\n",
    "\n",
    "for user, items in tqdm(predict_to_filter.items()):\n",
    "    train_items = []\n",
    "    try:\n",
    "        train_items = train_dic[user]\n",
    "    except:\n",
    "        pass\n",
    "    filtered_items = []\n",
    "    for item in items:\n",
    "        if meta_type_dic[item] == 'FILM':\n",
    "            if item in train_items:\n",
    "                continue\n",
    "        filtered_items.append(item)\n",
    "    predict_filtered[user] = filtered_items"
   ]
  },
  {
   "cell_type": "code",
   "execution_count": 18,
   "metadata": {},
   "outputs": [
    {
     "data": {
      "application/vnd.jupyter.widget-view+json": {
       "model_id": "f9c8cf7e1423419c9389587427c069df",
       "version_major": 2,
       "version_minor": 0
      },
      "text/plain": [
       "HBox(children=(IntProgress(value=0, max=187183), HTML(value='')))"
      ]
     },
     "metadata": {},
     "output_type": "display_data"
    },
    {
     "name": "stdout",
     "output_type": "stream",
     "text": [
      "\n"
     ]
    }
   ],
   "source": [
    "predict_10_filter = {}\n",
    "for user, items in tqdm(predict_filtered.items()):\n",
    "    predict_10_filter[user] = items[:10]"
   ]
  },
  {
   "cell_type": "code",
   "execution_count": 19,
   "metadata": {},
   "outputs": [],
   "source": [
    "# check if we have at least 10 items in recommend\n",
    "\n",
    "for items in predict_10_filter.values():\n",
    "    if len(items) < 10:\n",
    "        print('error')"
   ]
  },
  {
   "cell_type": "code",
   "execution_count": 20,
   "metadata": {},
   "outputs": [
    {
     "data": {
      "text/html": [
       "<div>\n",
       "<style scoped>\n",
       "    .dataframe tbody tr th:only-of-type {\n",
       "        vertical-align: middle;\n",
       "    }\n",
       "\n",
       "    .dataframe tbody tr th {\n",
       "        vertical-align: top;\n",
       "    }\n",
       "\n",
       "    .dataframe thead th {\n",
       "        text-align: right;\n",
       "    }\n",
       "</style>\n",
       "<table border=\"1\" class=\"dataframe\">\n",
       "  <thead>\n",
       "    <tr style=\"text-align: right;\">\n",
       "      <th></th>\n",
       "      <th>Precision@10</th>\n",
       "      <th>Recall@10</th>\n",
       "      <th>mMAP@10</th>\n",
       "      <th>mNDCG@10</th>\n",
       "    </tr>\n",
       "  </thead>\n",
       "  <tbody>\n",
       "    <tr>\n",
       "      <th>0</th>\n",
       "      <td>0.0425413</td>\n",
       "      <td>0.113818</td>\n",
       "      <td>0.0577854</td>\n",
       "      <td>0.0937778</td>\n",
       "    </tr>\n",
       "  </tbody>\n",
       "</table>\n",
       "</div>"
      ],
      "text/plain": [
       "  Precision@10 Recall@10    mMAP@10   mNDCG@10\n",
       "0    0.0425413  0.113818  0.0577854  0.0937778"
      ]
     },
     "execution_count": 20,
     "metadata": {},
     "output_type": "execute_result"
    }
   ],
   "source": [
    "mt = Metrics(test_dic, predict_10_filter)\n",
    "mt.Evaluate(k=10, metrics_list=['Precision', 'Recall', 'mMAP', 'mNDCG'])"
   ]
  },
  {
   "cell_type": "code",
   "execution_count": 18,
   "metadata": {},
   "outputs": [
    {
     "data": {
      "text/html": [
       "<div>\n",
       "<style scoped>\n",
       "    .dataframe tbody tr th:only-of-type {\n",
       "        vertical-align: middle;\n",
       "    }\n",
       "\n",
       "    .dataframe tbody tr th {\n",
       "        vertical-align: top;\n",
       "    }\n",
       "\n",
       "    .dataframe thead th {\n",
       "        text-align: right;\n",
       "    }\n",
       "</style>\n",
       "<table border=\"1\" class=\"dataframe\">\n",
       "  <thead>\n",
       "    <tr style=\"text-align: right;\">\n",
       "      <th></th>\n",
       "      <th>Precision@10</th>\n",
       "      <th>Recall@10</th>\n",
       "      <th>mMAP@10</th>\n",
       "      <th>mNDCG@10</th>\n",
       "    </tr>\n",
       "  </thead>\n",
       "  <tbody>\n",
       "    <tr>\n",
       "      <th>0</th>\n",
       "      <td>0.0418297</td>\n",
       "      <td>0.112241</td>\n",
       "      <td>0.0584143</td>\n",
       "      <td>0.0937909</td>\n",
       "    </tr>\n",
       "  </tbody>\n",
       "</table>\n",
       "</div>"
      ],
      "text/plain": [
       "  Precision@10 Recall@10    mMAP@10   mNDCG@10\n",
       "0    0.0418297  0.112241  0.0584143  0.0937909"
      ]
     },
     "execution_count": 18,
     "metadata": {},
     "output_type": "execute_result"
    }
   ],
   "source": [
    "mt = Metrics(test_dic, predict_10_filter)\n",
    "mt.Evaluate(k=10, metrics_list=['Precision', 'Recall', 'mMAP', 'mNDCG'])"
   ]
  },
  {
   "cell_type": "markdown",
   "metadata": {},
   "source": [
    "# Add factors for new users in test"
   ]
  },
  {
   "cell_type": "code",
   "execution_count": 21,
   "metadata": {},
   "outputs": [
    {
     "data": {
      "text/html": [
       "<div>\n",
       "<style scoped>\n",
       "    .dataframe tbody tr th:only-of-type {\n",
       "        vertical-align: middle;\n",
       "    }\n",
       "\n",
       "    .dataframe tbody tr th {\n",
       "        vertical-align: top;\n",
       "    }\n",
       "\n",
       "    .dataframe thead th {\n",
       "        text-align: right;\n",
       "    }\n",
       "</style>\n",
       "<table border=\"1\" class=\"dataframe\">\n",
       "  <thead>\n",
       "    <tr style=\"text-align: right;\">\n",
       "      <th></th>\n",
       "      <th>user</th>\n",
       "      <th>item</th>\n",
       "      <th>rating</th>\n",
       "    </tr>\n",
       "  </thead>\n",
       "  <tbody>\n",
       "    <tr>\n",
       "      <th>0</th>\n",
       "      <td>1088</td>\n",
       "      <td>20344436</td>\n",
       "      <td>5.0</td>\n",
       "    </tr>\n",
       "    <tr>\n",
       "      <th>1</th>\n",
       "      <td>28577</td>\n",
       "      <td>1960532</td>\n",
       "      <td>5.0</td>\n",
       "    </tr>\n",
       "  </tbody>\n",
       "</table>\n",
       "</div>"
      ],
      "text/plain": [
       "    user      item  rating\n",
       "0   1088  20344436     5.0\n",
       "1  28577   1960532     5.0"
      ]
     },
     "execution_count": 21,
     "metadata": {},
     "output_type": "execute_result"
    }
   ],
   "source": [
    "test = pd.read_csv(new_data_folder+'test.csv')\n",
    "test.head(2)"
   ]
  },
  {
   "cell_type": "code",
   "execution_count": 22,
   "metadata": {},
   "outputs": [
    {
     "name": "stdout",
     "output_type": "stream",
     "text": [
      "factors extended\n"
     ]
    }
   ],
   "source": [
    "rec.add_fit_trainset(test)"
   ]
  },
  {
   "cell_type": "code",
   "execution_count": 23,
   "metadata": {},
   "outputs": [],
   "source": [
    "del test"
   ]
  },
  {
   "cell_type": "code",
   "execution_count": 24,
   "metadata": {},
   "outputs": [],
   "source": [
    "n_factors = num_factors\n",
    "user_factors = rec.model.user_factors\n",
    "item_factors = rec.model.item_factors\n",
    "\n",
    "u_columns = ['uf'+str(i) for i in range(n_factors)]\n",
    "i_columns = ['if'+str(i) for i in range(n_factors)]"
   ]
  },
  {
   "cell_type": "code",
   "execution_count": 25,
   "metadata": {},
   "outputs": [
    {
     "data": {
      "text/html": [
       "<div>\n",
       "<style scoped>\n",
       "    .dataframe tbody tr th:only-of-type {\n",
       "        vertical-align: middle;\n",
       "    }\n",
       "\n",
       "    .dataframe tbody tr th {\n",
       "        vertical-align: top;\n",
       "    }\n",
       "\n",
       "    .dataframe thead th {\n",
       "        text-align: right;\n",
       "    }\n",
       "</style>\n",
       "<table border=\"1\" class=\"dataframe\">\n",
       "  <thead>\n",
       "    <tr style=\"text-align: right;\">\n",
       "      <th></th>\n",
       "      <th>uf0</th>\n",
       "      <th>uf1</th>\n",
       "      <th>uf2</th>\n",
       "      <th>uf3</th>\n",
       "      <th>uf4</th>\n",
       "      <th>uf5</th>\n",
       "      <th>uf6</th>\n",
       "      <th>uf7</th>\n",
       "      <th>uf8</th>\n",
       "      <th>uf9</th>\n",
       "      <th>...</th>\n",
       "      <th>uf91</th>\n",
       "      <th>uf92</th>\n",
       "      <th>uf93</th>\n",
       "      <th>uf94</th>\n",
       "      <th>uf95</th>\n",
       "      <th>uf96</th>\n",
       "      <th>uf97</th>\n",
       "      <th>uf98</th>\n",
       "      <th>uf99</th>\n",
       "      <th>user_id</th>\n",
       "    </tr>\n",
       "  </thead>\n",
       "  <tbody>\n",
       "    <tr>\n",
       "      <th>0</th>\n",
       "      <td>-0.071293</td>\n",
       "      <td>0.559415</td>\n",
       "      <td>-0.072539</td>\n",
       "      <td>0.129628</td>\n",
       "      <td>-0.280565</td>\n",
       "      <td>0.059878</td>\n",
       "      <td>-0.283093</td>\n",
       "      <td>-0.060836</td>\n",
       "      <td>0.450761</td>\n",
       "      <td>-0.330126</td>\n",
       "      <td>...</td>\n",
       "      <td>0.242459</td>\n",
       "      <td>-0.129850</td>\n",
       "      <td>-0.201479</td>\n",
       "      <td>0.126578</td>\n",
       "      <td>-0.234366</td>\n",
       "      <td>0.084919</td>\n",
       "      <td>-0.537230</td>\n",
       "      <td>0.062307</td>\n",
       "      <td>0.434249</td>\n",
       "      <td>21603820</td>\n",
       "    </tr>\n",
       "    <tr>\n",
       "      <th>1</th>\n",
       "      <td>0.078816</td>\n",
       "      <td>-0.080879</td>\n",
       "      <td>0.154772</td>\n",
       "      <td>-0.018486</td>\n",
       "      <td>1.056839</td>\n",
       "      <td>0.269800</td>\n",
       "      <td>0.520433</td>\n",
       "      <td>0.593316</td>\n",
       "      <td>0.011278</td>\n",
       "      <td>-0.335845</td>\n",
       "      <td>...</td>\n",
       "      <td>0.323231</td>\n",
       "      <td>0.206529</td>\n",
       "      <td>0.454821</td>\n",
       "      <td>0.121880</td>\n",
       "      <td>-0.179581</td>\n",
       "      <td>-0.278110</td>\n",
       "      <td>-0.029591</td>\n",
       "      <td>0.093737</td>\n",
       "      <td>0.507237</td>\n",
       "      <td>35636970</td>\n",
       "    </tr>\n",
       "  </tbody>\n",
       "</table>\n",
       "<p>2 rows × 101 columns</p>\n",
       "</div>"
      ],
      "text/plain": [
       "        uf0       uf1       uf2       uf3       uf4       uf5       uf6  \\\n",
       "0 -0.071293  0.559415 -0.072539  0.129628 -0.280565  0.059878 -0.283093   \n",
       "1  0.078816 -0.080879  0.154772 -0.018486  1.056839  0.269800  0.520433   \n",
       "\n",
       "        uf7       uf8       uf9  ...      uf91      uf92      uf93      uf94  \\\n",
       "0 -0.060836  0.450761 -0.330126  ...  0.242459 -0.129850 -0.201479  0.126578   \n",
       "1  0.593316  0.011278 -0.335845  ...  0.323231  0.206529  0.454821  0.121880   \n",
       "\n",
       "       uf95      uf96      uf97      uf98      uf99   user_id  \n",
       "0 -0.234366  0.084919 -0.537230  0.062307  0.434249  21603820  \n",
       "1 -0.179581 -0.278110 -0.029591  0.093737  0.507237  35636970  \n",
       "\n",
       "[2 rows x 101 columns]"
      ]
     },
     "execution_count": 25,
     "metadata": {},
     "output_type": "execute_result"
    }
   ],
   "source": [
    "user_features_df = pd.DataFrame(user_factors, columns= u_columns)\n",
    "user_features_df['user_id'] = user_features_df.index\n",
    "user_features_df['user_id'] = user_features_df['user_id'].map(rec.inv_mapping_dict['user'])\n",
    "user_features_df.head(2)"
   ]
  },
  {
   "cell_type": "code",
   "execution_count": null,
   "metadata": {},
   "outputs": [],
   "source": [
    "item_features_df = pd.DataFrame(item_factors, columns= i_columns)\n",
    "item_features_df['primary_video_id'] = item_features_df.index\n",
    "item_features_df['primary_video_id'] = item_features_df['primary_video_id'].map(rec.inv_mapping_dict['item'])\n",
    "item_features_df.head(2)"
   ]
  },
  {
   "cell_type": "markdown",
   "metadata": {},
   "source": [
    "## Save factors"
   ]
  },
  {
   "cell_type": "code",
   "execution_count": 27,
   "metadata": {},
   "outputs": [],
   "source": [
    "user_features_df.to_csv(model_folder+'user_features.csv', index=None)\n",
    "item_features_df.to_csv(model_folder+'item_features.csv', index=None)"
   ]
  },
  {
   "cell_type": "markdown",
   "metadata": {},
   "source": [
    "# Save predict"
   ]
  },
  {
   "cell_type": "code",
   "execution_count": 28,
   "metadata": {},
   "outputs": [],
   "source": [
    "def create_df_from_predict(dic_predict):\n",
    "    user_res = []\n",
    "    item_res = []\n",
    "    for user, items in dic_predict.items():\n",
    "        row_user = [user]*len(items)\n",
    "        user_res.extend(row_user)\n",
    "        item_res.extend(items)\n",
    "\n",
    "    return pd.DataFrame({'user_id': user_res, 'primary_video_id': item_res})"
   ]
  },
  {
   "cell_type": "code",
   "execution_count": 29,
   "metadata": {},
   "outputs": [
    {
     "data": {
      "text/html": [
       "<div>\n",
       "<style scoped>\n",
       "    .dataframe tbody tr th:only-of-type {\n",
       "        vertical-align: middle;\n",
       "    }\n",
       "\n",
       "    .dataframe tbody tr th {\n",
       "        vertical-align: top;\n",
       "    }\n",
       "\n",
       "    .dataframe thead th {\n",
       "        text-align: right;\n",
       "    }\n",
       "</style>\n",
       "<table border=\"1\" class=\"dataframe\">\n",
       "  <thead>\n",
       "    <tr style=\"text-align: right;\">\n",
       "      <th></th>\n",
       "      <th>user_id</th>\n",
       "      <th>primary_video_id</th>\n",
       "    </tr>\n",
       "  </thead>\n",
       "  <tbody>\n",
       "    <tr>\n",
       "      <th>0</th>\n",
       "      <td>1088</td>\n",
       "      <td>2677761</td>\n",
       "    </tr>\n",
       "    <tr>\n",
       "      <th>1</th>\n",
       "      <td>1088</td>\n",
       "      <td>3696132</td>\n",
       "    </tr>\n",
       "  </tbody>\n",
       "</table>\n",
       "</div>"
      ],
      "text/plain": [
       "  user_id primary_video_id\n",
       "0    1088          2677761\n",
       "1    1088          3696132"
      ]
     },
     "execution_count": 29,
     "metadata": {},
     "output_type": "execute_result"
    }
   ],
   "source": [
    "df_predict = create_df_from_predict(predict_10_filter)\n",
    "df_predict.to_csv(model_folder+'predict_10.csv', index=None)\n",
    "df_predict.head(2)"
   ]
  },
  {
   "cell_type": "code",
   "execution_count": 30,
   "metadata": {},
   "outputs": [
    {
     "data": {
      "application/vnd.jupyter.widget-view+json": {
       "model_id": "a53f494862604f3caeae624c9419e659",
       "version_major": 2,
       "version_minor": 0
      },
      "text/plain": [
       "HBox(children=(IntProgress(value=0, max=187183), HTML(value='')))"
      ]
     },
     "metadata": {},
     "output_type": "display_data"
    },
    {
     "name": "stdout",
     "output_type": "stream",
     "text": [
      "\n"
     ]
    }
   ],
   "source": [
    "predict_20_filter = {}\n",
    "for user, items in tqdm(predict_filtered.items()):\n",
    "    predict_20_filter[user] = items[:20]"
   ]
  },
  {
   "cell_type": "code",
   "execution_count": 31,
   "metadata": {},
   "outputs": [
    {
     "data": {
      "text/html": [
       "<div>\n",
       "<style scoped>\n",
       "    .dataframe tbody tr th:only-of-type {\n",
       "        vertical-align: middle;\n",
       "    }\n",
       "\n",
       "    .dataframe tbody tr th {\n",
       "        vertical-align: top;\n",
       "    }\n",
       "\n",
       "    .dataframe thead th {\n",
       "        text-align: right;\n",
       "    }\n",
       "</style>\n",
       "<table border=\"1\" class=\"dataframe\">\n",
       "  <thead>\n",
       "    <tr style=\"text-align: right;\">\n",
       "      <th></th>\n",
       "      <th>user_id</th>\n",
       "      <th>primary_video_id</th>\n",
       "    </tr>\n",
       "  </thead>\n",
       "  <tbody>\n",
       "    <tr>\n",
       "      <th>0</th>\n",
       "      <td>1088</td>\n",
       "      <td>2677761</td>\n",
       "    </tr>\n",
       "    <tr>\n",
       "      <th>1</th>\n",
       "      <td>1088</td>\n",
       "      <td>3696132</td>\n",
       "    </tr>\n",
       "  </tbody>\n",
       "</table>\n",
       "</div>"
      ],
      "text/plain": [
       "  user_id primary_video_id\n",
       "0    1088          2677761\n",
       "1    1088          3696132"
      ]
     },
     "execution_count": 31,
     "metadata": {},
     "output_type": "execute_result"
    }
   ],
   "source": [
    "df_predict = create_df_from_predict(predict_20_filter)\n",
    "df_predict.to_csv(model_folder+'predict_20.csv', index=None)\n",
    "df_predict.head(2)"
   ]
  }
 ],
 "metadata": {
  "kernelspec": {
   "display_name": "Python 3",
   "language": "python",
   "name": "python3"
  },
  "language_info": {
   "codemirror_mode": {
    "name": "ipython",
    "version": 3
   },
   "file_extension": ".py",
   "mimetype": "text/x-python",
   "name": "python",
   "nbconvert_exporter": "python",
   "pygments_lexer": "ipython3",
   "version": "3.6.8"
  }
 },
 "nbformat": 4,
 "nbformat_minor": 2
}
